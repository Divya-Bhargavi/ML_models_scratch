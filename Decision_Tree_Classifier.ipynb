{
 "cells": [
  {
   "cell_type": "code",
   "execution_count": 151,
   "metadata": {
    "ExecuteTime": {
     "end_time": "2019-03-16T00:34:01.135493Z",
     "start_time": "2019-03-16T00:34:01.112719Z"
    },
    "run_control": {
     "marked": true
    }
   },
   "outputs": [],
   "source": [
    "from sklearn.datasets import load_iris, load_diabetes\n",
    "import numpy as np\n",
    "import pandas as pd\n",
    "from sklearn.model_selection import train_test_split\n",
    "from collections import Counter\n",
    "import matplotlib.pyplot as plt\n",
    "import seaborn as sns\n",
    "from sklearn.preprocessing import StandardScaler\n",
    "import warnings\n",
    "warnings.filterwarnings('ignore')\n",
    "% matplotlib inline\n",
    "\n"
   ]
  },
  {
   "cell_type": "markdown",
   "metadata": {},
   "source": [
    "- `self.data` contains entire data frame\n",
    "- `self.independent` contains features\n",
    "- `self.target` contains the label column name"
   ]
  },
  {
   "cell_type": "code",
   "execution_count": 152,
   "metadata": {
    "ExecuteTime": {
     "end_time": "2019-03-16T00:34:01.702408Z",
     "start_time": "2019-03-16T00:34:01.697014Z"
    }
   },
   "outputs": [],
   "source": [
    "class DecisionTree:\n",
    "\n",
    "    def fit(self, data, target):\n",
    "        self.data = data\n",
    "        self.target = target\n",
    "        self.independent = self.data.columns.tolist()\n",
    "        self.independent.remove(target)\n",
    "    \n",
    "    def predict(self, data):\n",
    "        return np.array([self.__flow_data_thru_tree(row) for row in data.values])\n",
    "\n",
    "    def __flow_data_thru_tree(self, row):\n",
    "        return self.data[self.target].value_counts() \\\n",
    "                   .apply(lambda x: x/len(self.data)).tolist()"
   ]
  },
  {
   "cell_type": "code",
   "execution_count": 153,
   "metadata": {
    "ExecuteTime": {
     "end_time": "2019-03-16T00:34:01.805282Z",
     "start_time": "2019-03-16T00:34:01.778346Z"
    }
   },
   "outputs": [
    {
     "data": {
      "text/html": [
       "<div>\n",
       "<style scoped>\n",
       "    .dataframe tbody tr th:only-of-type {\n",
       "        vertical-align: middle;\n",
       "    }\n",
       "\n",
       "    .dataframe tbody tr th {\n",
       "        vertical-align: top;\n",
       "    }\n",
       "\n",
       "    .dataframe thead th {\n",
       "        text-align: right;\n",
       "    }\n",
       "</style>\n",
       "<table border=\"1\" class=\"dataframe\">\n",
       "  <thead>\n",
       "    <tr style=\"text-align: right;\">\n",
       "      <th></th>\n",
       "      <th>Age</th>\n",
       "      <th>Fare</th>\n",
       "      <th>Embarked_C</th>\n",
       "      <th>Embarked_Q</th>\n",
       "      <th>Embarked_S</th>\n",
       "      <th>Cabin_A</th>\n",
       "      <th>Cabin_B</th>\n",
       "      <th>Cabin_C</th>\n",
       "      <th>Cabin_D</th>\n",
       "      <th>Cabin_E</th>\n",
       "      <th>...</th>\n",
       "      <th>Pclass_1</th>\n",
       "      <th>Pclass_2</th>\n",
       "      <th>Pclass_3</th>\n",
       "      <th>Master</th>\n",
       "      <th>Miss</th>\n",
       "      <th>Mr</th>\n",
       "      <th>Mrs</th>\n",
       "      <th>Officer</th>\n",
       "      <th>Royalty</th>\n",
       "      <th>Survived</th>\n",
       "    </tr>\n",
       "  </thead>\n",
       "  <tbody>\n",
       "    <tr>\n",
       "      <th>0</th>\n",
       "      <td>22.0</td>\n",
       "      <td>7.2500</td>\n",
       "      <td>0</td>\n",
       "      <td>0</td>\n",
       "      <td>1</td>\n",
       "      <td>0</td>\n",
       "      <td>0</td>\n",
       "      <td>0</td>\n",
       "      <td>0</td>\n",
       "      <td>0</td>\n",
       "      <td>...</td>\n",
       "      <td>0</td>\n",
       "      <td>0</td>\n",
       "      <td>1</td>\n",
       "      <td>0</td>\n",
       "      <td>0</td>\n",
       "      <td>1</td>\n",
       "      <td>0</td>\n",
       "      <td>0</td>\n",
       "      <td>0</td>\n",
       "      <td>0.0</td>\n",
       "    </tr>\n",
       "    <tr>\n",
       "      <th>1</th>\n",
       "      <td>38.0</td>\n",
       "      <td>71.2833</td>\n",
       "      <td>1</td>\n",
       "      <td>0</td>\n",
       "      <td>0</td>\n",
       "      <td>0</td>\n",
       "      <td>0</td>\n",
       "      <td>1</td>\n",
       "      <td>0</td>\n",
       "      <td>0</td>\n",
       "      <td>...</td>\n",
       "      <td>1</td>\n",
       "      <td>0</td>\n",
       "      <td>0</td>\n",
       "      <td>0</td>\n",
       "      <td>0</td>\n",
       "      <td>0</td>\n",
       "      <td>1</td>\n",
       "      <td>0</td>\n",
       "      <td>0</td>\n",
       "      <td>1.0</td>\n",
       "    </tr>\n",
       "    <tr>\n",
       "      <th>2</th>\n",
       "      <td>26.0</td>\n",
       "      <td>7.9250</td>\n",
       "      <td>0</td>\n",
       "      <td>0</td>\n",
       "      <td>1</td>\n",
       "      <td>0</td>\n",
       "      <td>0</td>\n",
       "      <td>0</td>\n",
       "      <td>0</td>\n",
       "      <td>0</td>\n",
       "      <td>...</td>\n",
       "      <td>0</td>\n",
       "      <td>0</td>\n",
       "      <td>1</td>\n",
       "      <td>0</td>\n",
       "      <td>1</td>\n",
       "      <td>0</td>\n",
       "      <td>0</td>\n",
       "      <td>0</td>\n",
       "      <td>0</td>\n",
       "      <td>1.0</td>\n",
       "    </tr>\n",
       "  </tbody>\n",
       "</table>\n",
       "<p>3 rows × 29 columns</p>\n",
       "</div>"
      ],
      "text/plain": [
       "    Age     Fare  Embarked_C  Embarked_Q  Embarked_S  Cabin_A  Cabin_B  \\\n",
       "0  22.0   7.2500           0           0           1        0        0   \n",
       "1  38.0  71.2833           1           0           0        0        0   \n",
       "2  26.0   7.9250           0           0           1        0        0   \n",
       "\n",
       "   Cabin_C  Cabin_D  Cabin_E    ...     Pclass_1  Pclass_2  Pclass_3  Master  \\\n",
       "0        0        0        0    ...            0         0         1       0   \n",
       "1        1        0        0    ...            1         0         0       0   \n",
       "2        0        0        0    ...            0         0         1       0   \n",
       "\n",
       "   Miss  Mr  Mrs  Officer  Royalty  Survived  \n",
       "0     0   1    0        0        0       0.0  \n",
       "1     0   0    1        0        0       1.0  \n",
       "2     1   0    0        0        0       1.0  \n",
       "\n",
       "[3 rows x 29 columns]"
      ]
     },
     "execution_count": 153,
     "metadata": {},
     "output_type": "execute_result"
    }
   ],
   "source": [
    "train = pd.read_csv('DT_train_preprocessed.csv')\n",
    "test = pd.read_csv('DT_test_preprocessed.csv')\n",
    "train.head(3)"
   ]
  },
  {
   "cell_type": "markdown",
   "metadata": {},
   "source": [
    "Currently we are just returning mean of all predictions"
   ]
  },
  {
   "cell_type": "code",
   "execution_count": 154,
   "metadata": {
    "ExecuteTime": {
     "end_time": "2019-03-16T00:34:02.375504Z",
     "start_time": "2019-03-16T00:34:02.070619Z"
    }
   },
   "outputs": [
    {
     "data": {
      "text/plain": [
       "array([[0.61616162, 0.38383838],\n",
       "       [0.61616162, 0.38383838],\n",
       "       [0.61616162, 0.38383838],\n",
       "       [0.61616162, 0.38383838],\n",
       "       [0.61616162, 0.38383838]])"
      ]
     },
     "execution_count": 154,
     "metadata": {},
     "output_type": "execute_result"
    }
   ],
   "source": [
    "model = DecisionTree()\n",
    "model.fit(train, 'Survived')\n",
    "predictions = model.predict(test)[0:5]\n",
    "predictions"
   ]
  },
  {
   "cell_type": "markdown",
   "metadata": {},
   "source": [
    "Calculate impurity at a node level. "
   ]
  },
  {
   "cell_type": "code",
   "execution_count": 155,
   "metadata": {
    "ExecuteTime": {
     "end_time": "2019-03-16T00:34:02.380497Z",
     "start_time": "2019-03-16T00:34:02.377462Z"
    }
   },
   "outputs": [],
   "source": [
    "def __calculate_impurity_score(self, data):\n",
    "    if data is None or data.empty: return 0\n",
    "    probs = np.array(train.Survived.value_counts(normalize=True))\n",
    "    return probs.dot(1-probs)"
   ]
  },
  {
   "cell_type": "markdown",
   "metadata": {},
   "source": [
    "Take one column , find the best split based on information gain over various values "
   ]
  },
  {
   "cell_type": "code",
   "execution_count": 156,
   "metadata": {
    "ExecuteTime": {
     "end_time": "2019-03-16T00:34:02.388639Z",
     "start_time": "2019-03-16T00:34:02.382751Z"
    }
   },
   "outputs": [],
   "source": [
    "def __find_best_split_for_column(self, col):\n",
    "    x = self.data[col]\n",
    "    unique_values = x.unique()\n",
    "    if len(unique_values) == 1: return None, None\n",
    "    information_gain = None\n",
    "    split = None\n",
    "    # Iterate through all possible values\n",
    "    for val in unique_values:\n",
    "        left = x <= val\n",
    "        right = x > val\n",
    "        left_data = self.data[left]\n",
    "        right_data = self.data[right]\n",
    "        left_impurity = self.__calculate_impurity_score(left_data[self.target])\n",
    "        right_impurity = self.__calculate_impurity_score(right_data[self.target])\n",
    "        score = self.__calculate_information_gain(left_count = len(left_data),\n",
    "                                                  left_impurity = left_impurity,\n",
    "                                                  right_count = len(right_data),\n",
    "                                                  right_impurity = right_impurity)\n",
    "        # Store the best split\n",
    "        if information_gain is None or score > information_gain: \n",
    "            information_gain = score \n",
    "            split = val\n",
    "    return information_gain, split\n",
    "\n",
    "def __calculate_information_gain(self, left_count, left_impurity, right_count, right_impurity):\n",
    "    # weighted impurity score on nodes\n",
    "    return self.impurity_score - ((left_count/len(self.data)) * left_impurity + \\\n",
    "                                  (right_count/len(self.data)) * right_impurity)"
   ]
  },
  {
   "cell_type": "markdown",
   "metadata": {},
   "source": [
    "Find best split across all independent variables and store it "
   ]
  },
  {
   "cell_type": "code",
   "execution_count": 157,
   "metadata": {
    "ExecuteTime": {
     "end_time": "2019-03-16T00:34:04.610610Z",
     "start_time": "2019-03-16T00:34:04.606362Z"
    }
   },
   "outputs": [],
   "source": [
    "def __find_best_split(self):\n",
    "    best_split = {}\n",
    "    for col in self.independent:\n",
    "        information_gain, split = self.__find_best_split_for_column(col)\n",
    "        if split is None: continue\n",
    "        if not best_split or best_split[\"information_gain\"] < information_gain:\n",
    "            best_split = {\"split\": split, \n",
    "                          \"col\": col, \n",
    "                          \"information_gain\": information_gain}\n",
    "    return best_split[\"split\"], best_split[\"col\"]"
   ]
  },
  {
   "cell_type": "markdown",
   "metadata": {},
   "source": [
    "Create multiple branches with recursion"
   ]
  },
  {
   "cell_type": "code",
   "execution_count": 158,
   "metadata": {
    "ExecuteTime": {
     "end_time": "2019-03-16T00:34:05.189579Z",
     "start_time": "2019-03-16T00:34:05.185788Z"
    }
   },
   "outputs": [],
   "source": [
    "def __create_branches(self):\n",
    "    self.left = DecisionTree()\n",
    "    self.right = DecisionTree()\n",
    "    left_rows = self.data[self.data[self.split_feature] <= self.criteria] \n",
    "    right_rows = self.data[self.data[self.split_feature] > self.criteria] \n",
    "    self.left.fit(data = left_rows, target = self.target)\n",
    "    self.right.fit(data = right_rows, target = self.target)"
   ]
  },
  {
   "cell_type": "markdown",
   "metadata": {},
   "source": [
    "we add max depth attribute to limit the length of the tree"
   ]
  },
  {
   "cell_type": "code",
   "execution_count": 159,
   "metadata": {
    "ExecuteTime": {
     "end_time": "2019-03-16T00:34:05.741532Z",
     "start_time": "2019-03-16T00:34:05.737922Z"
    }
   },
   "outputs": [],
   "source": [
    "def __create_branches(self):\n",
    "    self.left = DecisionTree(max_depth = self.max_depth, \n",
    "                             depth = self.depth + 1)\n",
    "    self.right = DecisionTree(max_depth = self.max_depth, \n",
    "                             depth = self.depth + 1)"
   ]
  },
  {
   "cell_type": "markdown",
   "metadata": {},
   "source": [
    "Prediction"
   ]
  },
  {
   "cell_type": "markdown",
   "metadata": {
    "ExecuteTime": {
     "end_time": "2019-03-15T21:59:12.603136Z",
     "start_time": "2019-03-15T21:59:12.598033Z"
    }
   },
   "source": [
    "We are setting 2 properties that would check for leaf node and probability at a node"
   ]
  },
  {
   "cell_type": "code",
   "execution_count": 160,
   "metadata": {
    "ExecuteTime": {
     "end_time": "2019-03-16T00:34:07.154408Z",
     "start_time": "2019-03-16T00:34:07.150914Z"
    }
   },
   "outputs": [],
   "source": [
    "@property\n",
    "def is_leaf_node(self): return self.left is None\n",
    "\n",
    "@property\n",
    "def probability(self): \n",
    "    return self.data[self.target].value_counts().apply(lambda x: x/len(self.data)).tolist()"
   ]
  },
  {
   "cell_type": "markdown",
   "metadata": {},
   "source": [
    "In this case, the @property decorator makes it so you call the full_name(self) method like it is just a normal property, when in reality it is actually a method that contains code to be run when the property is set.\n",
    "\n"
   ]
  },
  {
   "cell_type": "markdown",
   "metadata": {
    "ExecuteTime": {
     "end_time": "2019-03-15T22:00:05.684195Z",
     "start_time": "2019-03-15T22:00:05.678946Z"
    }
   },
   "source": [
    "To predict on test data we need to traverse through each row of test data and each node of a tree and as well store the probabilities"
   ]
  },
  {
   "cell_type": "code",
   "execution_count": 161,
   "metadata": {
    "ExecuteTime": {
     "end_time": "2019-03-16T00:34:10.017815Z",
     "start_time": "2019-03-16T00:34:10.014213Z"
    }
   },
   "outputs": [],
   "source": [
    "def predict(self, data):\n",
    "    return np.array([self.__flow_data_thru_tree(row) for _, row in data.iterrows()])\n",
    "  \n",
    "def __flow_data_thru_tree(self, row):\n",
    "    if self.is_leaf_node: return self.probability\n",
    "    tree = self.left if row[self.split_feature] <= self.criteria else self.right\n",
    "    return tree.__flow_data_thru_tree(row)"
   ]
  },
  {
   "cell_type": "markdown",
   "metadata": {
    "ExecuteTime": {
     "end_time": "2019-03-16T01:26:39.645512Z",
     "start_time": "2019-03-16T01:26:39.642410Z"
    }
   },
   "source": [
    "#### Combining it all together"
   ]
  },
  {
   "cell_type": "code",
   "execution_count": 233,
   "metadata": {
    "ExecuteTime": {
     "end_time": "2019-03-16T01:11:02.280388Z",
     "start_time": "2019-03-16T01:11:02.264216Z"
    }
   },
   "outputs": [],
   "source": [
    "class DecisionTree:\n",
    "    \n",
    "    def __init__(self, max_depth = 6, depth = 1):\n",
    "        self.left = None\n",
    "        self.right = None\n",
    "        self.max_depth = max_depth\n",
    "        self.depth = depth\n",
    "\n",
    "    def fit(self, data, target):\n",
    "        if self.depth <= self.max_depth: print(f\"processing at Depth: {self.depth}\")\n",
    "        self.data = data\n",
    "        self.target = target\n",
    "        self.independent = self.data.columns.tolist()\n",
    "        self.independent.remove(target)\n",
    "        if self.depth <= self.max_depth:\n",
    "            \n",
    "            self.__validate_data()\n",
    "            self.impurity_score = self.__calculate_impurity_score(self.data[self.target])\n",
    "            self.criteria, self.split_feature, self.information_gain = self.__find_best_split()\n",
    "            if self.criteria is not None and self.information_gain > 0: \n",
    "                self.__create_branches()\n",
    "        else: \n",
    "            print(\"Stopping splitting as Max depth reached\")\n",
    "            \n",
    "        \n",
    "    def __calculate_impurity_score(self, data):\n",
    "        if data is None or data.empty: return 0\n",
    "        probs = np.array(data.value_counts(normalize=True))\n",
    "        return probs.dot(1-probs)\n",
    "    \n",
    "    def __find_best_split(self):\n",
    "        best_split = {}\n",
    "        for col in self.independent:\n",
    "            information_gain, split = self.__find_best_split_for_column(col)\n",
    "            if split is None: continue\n",
    "            if not best_split or best_split[\"information_gain\"] < information_gain:\n",
    "                best_split = {\"split\": split, \"col\": col, \"information_gain\": information_gain}\n",
    "\n",
    "        return best_split.get(\"split\"), best_split.get(\"col\"), best_split.get(\"information_gain\")\n",
    "    \n",
    "    def __find_best_split_for_column(self, col):\n",
    "        x = self.data[col]\n",
    "        unique_values = x.unique()\n",
    "        if len(unique_values) == 1: return None, None\n",
    "        information_gain = None\n",
    "        split = None\n",
    "        # Iterate through all possible values\n",
    "        for val in unique_values:\n",
    "            left = x <= val\n",
    "            right = x > val\n",
    "            left_data = self.data[left]\n",
    "            right_data = self.data[right]\n",
    "            left_impurity = self.__calculate_impurity_score(left_data[self.target])\n",
    "            right_impurity = self.__calculate_impurity_score(right_data[self.target])\n",
    "            score = self.__calculate_information_gain(left_count = len(left_data),\n",
    "                                                      left_impurity = left_impurity,\n",
    "                                                      right_count = len(right_data),\n",
    "                                                      right_impurity = right_impurity)\n",
    "            # Store the best split\n",
    "            if information_gain is None or score > information_gain: \n",
    "                information_gain = score \n",
    "                split = val\n",
    "        return information_gain, split\n",
    "    \n",
    "    def __create_branches(self):\n",
    "        self.left = DecisionTree(max_depth = self.max_depth, \n",
    "                                 depth = self.depth + 1)\n",
    "        self.right = DecisionTree(max_depth = self.max_depth, \n",
    "                                 depth = self.depth + 1)\n",
    "        left_rows = self.data[self.data[self.split_feature] <= self.criteria] \n",
    "        right_rows = self.data[self.data[self.split_feature] > self.criteria] \n",
    "        self.left.fit(data = left_rows, target = self.target)\n",
    "        self.right.fit(data = right_rows, target = self.target) \n",
    "        \n",
    "    def __calculate_information_gain(self, left_count, left_impurity, right_count, right_impurity):\n",
    "        # weighted impurity score on nodes\n",
    "        return self.impurity_score - ((left_count/len(self.data)) * left_impurity + \\\n",
    "                                      (right_count/len(self.data)) * right_impurity)\n",
    "        \n",
    "    def predict(self, data):\n",
    "        return np.array([self.__flow_data_thru_tree(row) for row in data.values])\n",
    "\n",
    "    def __flow_data_thru_tree(self, row):\n",
    "        return self.data[self.target].value_counts() \\\n",
    "                   .apply(lambda x: x/len(self.data)).tolist()\n",
    "\n",
    "\n",
    "    \n",
    "        \n",
    "    def __validate_data(self):\n",
    "        non_numeric_columns = self.data[self.independent].select_dtypes(include=['category', 'object', 'bool']).columns.tolist()\n",
    "        if(len(set(self.independent).intersection(set(non_numeric_columns))) != 0):\n",
    "            raise RuntimeError(\"Not all columns are numeric\")\n",
    "        \n",
    "        self.data[self.target] = self.data[self.target].astype(\"category\")\n",
    "#         if(len(self.data[self.target].cat.categories) != 2):\n",
    "#             raise RuntimeError(\"Implementation is only for Binary Classification\")\n",
    "            \n",
    "    @property\n",
    "    def is_leaf_node(self): return self.left is None\n",
    "\n",
    "\n",
    "    @property\n",
    "    def probability(self):     \n",
    "        return self.data[self.target].value_counts(normalize=True).to_dict()\n",
    "    \n",
    "    @property\n",
    "    def class_predictions(self):     \n",
    "        return self.data[self.target].value_counts(normalize=True).keys()[0]\n",
    "    \n",
    "    def predict_class(self, data):\n",
    "        return np.array([self.__flow_data_thru_tree_hard_pred(row) for _, row in data.iterrows()])\n",
    "    \n",
    "    def predict_proba(self,data):\n",
    "        return np.array([self.__flow_data_thru_tree(row) for _, row in data.iterrows()])\n",
    "  \n",
    "    def __flow_data_thru_tree(self, row):\n",
    "        if self.is_leaf_node: return self.probability\n",
    "        tree = self.left if row[self.split_feature] <= self.criteria else self.right\n",
    "        return tree.__flow_data_thru_tree(row)\n",
    "    \n",
    "    def __flow_data_thru_tree_hard_pred(self, row):\n",
    "        if self.is_leaf_node: return self.class_predictions\n",
    "        tree = self.left if row[self.split_feature] <= self.criteria else self.right\n",
    "        return tree.__flow_data_thru_tree_hard_pred(row)\n",
    "\n",
    "    "
   ]
  },
  {
   "cell_type": "markdown",
   "metadata": {},
   "source": [
    "#####  Test binary"
   ]
  },
  {
   "cell_type": "code",
   "execution_count": 222,
   "metadata": {
    "ExecuteTime": {
     "end_time": "2019-03-16T01:09:56.508042Z",
     "start_time": "2019-03-16T01:09:56.499097Z"
    }
   },
   "outputs": [
    {
     "data": {
      "text/plain": [
       "{0.0: 0.6161616161616161, 1.0: 0.3838383838383838}"
      ]
     },
     "execution_count": 222,
     "metadata": {},
     "output_type": "execute_result"
    }
   ],
   "source": [
    "train.Survived.value_counts(normalize=True).to_dict()"
   ]
  },
  {
   "cell_type": "code",
   "execution_count": 223,
   "metadata": {
    "ExecuteTime": {
     "end_time": "2019-03-16T01:10:01.280160Z",
     "start_time": "2019-03-16T01:09:57.011926Z"
    },
    "scrolled": true
   },
   "outputs": [
    {
     "name": "stdout",
     "output_type": "stream",
     "text": [
      "processing at Depth: 1\n",
      "processing at Depth: 2\n",
      "processing at Depth: 3\n",
      "Stopping splitting as Max depth reached\n",
      "Stopping splitting as Max depth reached\n",
      "processing at Depth: 3\n",
      "Stopping splitting as Max depth reached\n",
      "Stopping splitting as Max depth reached\n",
      "processing at Depth: 2\n",
      "processing at Depth: 3\n",
      "Stopping splitting as Max depth reached\n",
      "Stopping splitting as Max depth reached\n",
      "processing at Depth: 3\n",
      "Stopping splitting as Max depth reached\n",
      "Stopping splitting as Max depth reached\n"
     ]
    }
   ],
   "source": [
    "model = DecisionTree(max_depth=3)\n",
    "model.fit(train, 'Survived')"
   ]
  },
  {
   "cell_type": "code",
   "execution_count": 225,
   "metadata": {
    "ExecuteTime": {
     "end_time": "2019-03-16T01:10:08.564849Z",
     "start_time": "2019-03-16T01:10:08.181889Z"
    },
    "scrolled": true
   },
   "outputs": [
    {
     "data": {
      "text/plain": [
       "array([{0.0: 0.9020618556701031, 1.0: 0.0979381443298969},\n",
       "       {1.0: 0.64, 0.0: 0.36},\n",
       "       {0.0: 0.9020618556701031, 1.0: 0.0979381443298969},\n",
       "       {0.0: 0.9020618556701031, 1.0: 0.0979381443298969},\n",
       "       {1.0: 0.64, 0.0: 0.36},\n",
       "       {0.0: 0.9020618556701031, 1.0: 0.0979381443298969},\n",
       "       {1.0: 0.64, 0.0: 0.36},\n",
       "       {0.0: 0.7207207207207207, 1.0: 0.27927927927927926},\n",
       "       {1.0: 0.64, 0.0: 0.36},\n",
       "       {0.0: 0.9020618556701031, 1.0: 0.0979381443298969},\n",
       "       {0.0: 0.9020618556701031, 1.0: 0.0979381443298969},\n",
       "       {0.0: 0.9020618556701031, 1.0: 0.0979381443298969},\n",
       "       {1.0: 0.8959537572254336, 0.0: 0.10404624277456648},\n",
       "       {0.0: 0.9020618556701031, 1.0: 0.0979381443298969},\n",
       "       {1.0: 0.8959537572254336, 0.0: 0.10404624277456648},\n",
       "       {1.0: 0.8959537572254336, 0.0: 0.10404624277456648},\n",
       "       {0.0: 0.9020618556701031, 1.0: 0.0979381443298969},\n",
       "       {0.0: 0.9020618556701031, 1.0: 0.0979381443298969},\n",
       "       {1.0: 0.64, 0.0: 0.36}, {1.0: 0.64, 0.0: 0.36},\n",
       "       {0.0: 0.7207207207207207, 1.0: 0.27927927927927926},\n",
       "       {1.0: 0.64, 0.0: 0.36},\n",
       "       {1.0: 0.8959537572254336, 0.0: 0.10404624277456648},\n",
       "       {0.0: 0.7207207207207207, 1.0: 0.27927927927927926},\n",
       "       {1.0: 1.0, 0.0: 0.0},\n",
       "       {0.0: 0.9020618556701031, 1.0: 0.0979381443298969},\n",
       "       {1.0: 0.8959537572254336, 0.0: 0.10404624277456648},\n",
       "       {0.0: 0.9020618556701031, 1.0: 0.0979381443298969},\n",
       "       {0.0: 0.7207207207207207, 1.0: 0.27927927927927926},\n",
       "       {0.0: 0.9020618556701031, 1.0: 0.0979381443298969},\n",
       "       {0.0: 0.9020618556701031, 1.0: 0.0979381443298969},\n",
       "       {0.0: 0.7207207207207207, 1.0: 0.27927927927927926},\n",
       "       {1.0: 0.8959537572254336, 0.0: 0.10404624277456648},\n",
       "       {1.0: 0.8959537572254336, 0.0: 0.10404624277456648},\n",
       "       {0.0: 0.7207207207207207, 1.0: 0.27927927927927926},\n",
       "       {0.0: 0.9020618556701031, 1.0: 0.0979381443298969},\n",
       "       {1.0: 0.64, 0.0: 0.36}, {1.0: 0.64, 0.0: 0.36},\n",
       "       {0.0: 0.9020618556701031, 1.0: 0.0979381443298969},\n",
       "       {0.0: 0.7207207207207207, 1.0: 0.27927927927927926},\n",
       "       {0.0: 0.9020618556701031, 1.0: 0.0979381443298969},\n",
       "       {1.0: 0.6875, 0.0: 0.3125},\n",
       "       {0.0: 0.9020618556701031, 1.0: 0.0979381443298969},\n",
       "       {1.0: 0.64, 0.0: 0.36},\n",
       "       {1.0: 0.8959537572254336, 0.0: 0.10404624277456648},\n",
       "       {0.0: 0.9020618556701031, 1.0: 0.0979381443298969},\n",
       "       {0.0: 0.7207207207207207, 1.0: 0.27927927927927926},\n",
       "       {0.0: 0.9020618556701031, 1.0: 0.0979381443298969},\n",
       "       {1.0: 0.8959537572254336, 0.0: 0.10404624277456648},\n",
       "       {1.0: 0.64, 0.0: 0.36},\n",
       "       {0.0: 0.7207207207207207, 1.0: 0.27927927927927926},\n",
       "       {0.0: 0.9020618556701031, 1.0: 0.0979381443298969},\n",
       "       {1.0: 0.8959537572254336, 0.0: 0.10404624277456648},\n",
       "       {1.0: 1.0, 0.0: 0.0},\n",
       "       {0.0: 0.9020618556701031, 1.0: 0.0979381443298969},\n",
       "       {0.0: 0.9111111111111111, 1.0: 0.08888888888888889},\n",
       "       {0.0: 0.9020618556701031, 1.0: 0.0979381443298969},\n",
       "       {0.0: 0.9020618556701031, 1.0: 0.0979381443298969},\n",
       "       {0.0: 0.9020618556701031, 1.0: 0.0979381443298969},\n",
       "       {1.0: 0.8959537572254336, 0.0: 0.10404624277456648},\n",
       "       {0.0: 0.9020618556701031, 1.0: 0.0979381443298969},\n",
       "       {0.0: 0.9020618556701031, 1.0: 0.0979381443298969},\n",
       "       {0.0: 0.9020618556701031, 1.0: 0.0979381443298969},\n",
       "       {1.0: 0.64, 0.0: 0.36}, {1.0: 1.0, 0.0: 0.0},\n",
       "       {1.0: 0.8959537572254336, 0.0: 0.10404624277456648},\n",
       "       {1.0: 0.64, 0.0: 0.36},\n",
       "       {0.0: 0.7207207207207207, 1.0: 0.27927927927927926},\n",
       "       {0.0: 0.7207207207207207, 1.0: 0.27927927927927926},\n",
       "       {1.0: 1.0, 0.0: 0.0}, {1.0: 0.64, 0.0: 0.36},\n",
       "       {0.0: 0.9020618556701031, 1.0: 0.0979381443298969},\n",
       "       {1.0: 0.64, 0.0: 0.36},\n",
       "       {0.0: 0.7207207207207207, 1.0: 0.27927927927927926},\n",
       "       {1.0: 0.8959537572254336, 0.0: 0.10404624277456648},\n",
       "       {0.0: 0.7207207207207207, 1.0: 0.27927927927927926},\n",
       "       {0.0: 0.9020618556701031, 1.0: 0.0979381443298969},\n",
       "       {1.0: 0.8959537572254336, 0.0: 0.10404624277456648},\n",
       "       {0.0: 0.9020618556701031, 1.0: 0.0979381443298969},\n",
       "       {1.0: 0.64, 0.0: 0.36}, {1.0: 0.64, 0.0: 0.36},\n",
       "       {0.0: 0.7207207207207207, 1.0: 0.27927927927927926},\n",
       "       {0.0: 0.9020618556701031, 1.0: 0.0979381443298969},\n",
       "       {0.0: 0.9020618556701031, 1.0: 0.0979381443298969},\n",
       "       {0.0: 0.9020618556701031, 1.0: 0.0979381443298969},\n",
       "       {0.0: 0.9020618556701031, 1.0: 0.0979381443298969},\n",
       "       {1.0: 0.64, 0.0: 0.36}, {1.0: 0.64, 0.0: 0.36},\n",
       "       {1.0: 0.64, 0.0: 0.36},\n",
       "       {1.0: 0.8959537572254336, 0.0: 0.10404624277456648},\n",
       "       {1.0: 0.64, 0.0: 0.36},\n",
       "       {0.0: 0.9020618556701031, 1.0: 0.0979381443298969},\n",
       "       {1.0: 0.8959537572254336, 0.0: 0.10404624277456648},\n",
       "       {0.0: 0.9020618556701031, 1.0: 0.0979381443298969},\n",
       "       {0.0: 0.9020618556701031, 1.0: 0.0979381443298969},\n",
       "       {0.0: 0.9020618556701031, 1.0: 0.0979381443298969},\n",
       "       {1.0: 0.8959537572254336, 0.0: 0.10404624277456648},\n",
       "       {0.0: 0.9020618556701031, 1.0: 0.0979381443298969},\n",
       "       {1.0: 0.64, 0.0: 0.36},\n",
       "       {0.0: 0.9020618556701031, 1.0: 0.0979381443298969},\n",
       "       {1.0: 0.8959537572254336, 0.0: 0.10404624277456648},\n",
       "       {0.0: 0.9020618556701031, 1.0: 0.0979381443298969},\n",
       "       {0.0: 0.9020618556701031, 1.0: 0.0979381443298969},\n",
       "       {0.0: 0.9020618556701031, 1.0: 0.0979381443298969},\n",
       "       {1.0: 0.64, 0.0: 0.36},\n",
       "       {0.0: 0.9020618556701031, 1.0: 0.0979381443298969},\n",
       "       {0.0: 0.9020618556701031, 1.0: 0.0979381443298969},\n",
       "       {0.0: 0.9020618556701031, 1.0: 0.0979381443298969},\n",
       "       {0.0: 0.9020618556701031, 1.0: 0.0979381443298969},\n",
       "       {0.0: 0.9020618556701031, 1.0: 0.0979381443298969},\n",
       "       {0.0: 0.9020618556701031, 1.0: 0.0979381443298969},\n",
       "       {1.0: 0.64, 0.0: 0.36},\n",
       "       {1.0: 0.8959537572254336, 0.0: 0.10404624277456648},\n",
       "       {1.0: 0.64, 0.0: 0.36},\n",
       "       {1.0: 0.8959537572254336, 0.0: 0.10404624277456648},\n",
       "       {0.0: 0.9020618556701031, 1.0: 0.0979381443298969},\n",
       "       {0.0: 0.9020618556701031, 1.0: 0.0979381443298969},\n",
       "       {1.0: 0.64, 0.0: 0.36},\n",
       "       {0.0: 0.7207207207207207, 1.0: 0.27927927927927926},\n",
       "       {1.0: 0.8959537572254336, 0.0: 0.10404624277456648},\n",
       "       {1.0: 0.64, 0.0: 0.36},\n",
       "       {0.0: 0.9020618556701031, 1.0: 0.0979381443298969},\n",
       "       {1.0: 0.8959537572254336, 0.0: 0.10404624277456648},\n",
       "       {0.0: 0.9020618556701031, 1.0: 0.0979381443298969},\n",
       "       {0.0: 0.9020618556701031, 1.0: 0.0979381443298969},\n",
       "       {1.0: 0.64, 0.0: 0.36},\n",
       "       {0.0: 0.9020618556701031, 1.0: 0.0979381443298969},\n",
       "       {1.0: 0.8959537572254336, 0.0: 0.10404624277456648},\n",
       "       {0.0: 0.9020618556701031, 1.0: 0.0979381443298969},\n",
       "       {0.0: 0.9020618556701031, 1.0: 0.0979381443298969},\n",
       "       {0.0: 0.9020618556701031, 1.0: 0.0979381443298969},\n",
       "       {1.0: 0.8959537572254336, 0.0: 0.10404624277456648},\n",
       "       {0.0: 0.9111111111111111, 1.0: 0.08888888888888889},\n",
       "       {0.0: 0.9020618556701031, 1.0: 0.0979381443298969},\n",
       "       {0.0: 0.9020618556701031, 1.0: 0.0979381443298969},\n",
       "       {0.0: 0.9020618556701031, 1.0: 0.0979381443298969},\n",
       "       {0.0: 0.9020618556701031, 1.0: 0.0979381443298969},\n",
       "       {0.0: 0.9020618556701031, 1.0: 0.0979381443298969},\n",
       "       {1.0: 0.64, 0.0: 0.36},\n",
       "       {0.0: 0.7207207207207207, 1.0: 0.27927927927927926},\n",
       "       {0.0: 0.9111111111111111, 1.0: 0.08888888888888889},\n",
       "       {1.0: 0.8959537572254336, 0.0: 0.10404624277456648},\n",
       "       {0.0: 0.7207207207207207, 1.0: 0.27927927927927926},\n",
       "       {0.0: 0.9020618556701031, 1.0: 0.0979381443298969},\n",
       "       {1.0: 0.6875, 0.0: 0.3125},\n",
       "       {0.0: 0.9020618556701031, 1.0: 0.0979381443298969},\n",
       "       {0.0: 0.7207207207207207, 1.0: 0.27927927927927926},\n",
       "       {0.0: 0.9020618556701031, 1.0: 0.0979381443298969},\n",
       "       {1.0: 0.6875, 0.0: 0.3125},\n",
       "       {1.0: 0.8959537572254336, 0.0: 0.10404624277456648},\n",
       "       {1.0: 0.8959537572254336, 0.0: 0.10404624277456648},\n",
       "       {0.0: 0.9020618556701031, 1.0: 0.0979381443298969},\n",
       "       {0.0: 0.7207207207207207, 1.0: 0.27927927927927926},\n",
       "       {1.0: 0.64, 0.0: 0.36},\n",
       "       {0.0: 0.9111111111111111, 1.0: 0.08888888888888889},\n",
       "       {0.0: 0.9020618556701031, 1.0: 0.0979381443298969},\n",
       "       {1.0: 0.8959537572254336, 0.0: 0.10404624277456648},\n",
       "       {1.0: 0.64, 0.0: 0.36}, {1.0: 0.6875, 0.0: 0.3125},\n",
       "       {1.0: 0.64, 0.0: 0.36}, {1.0: 0.64, 0.0: 0.36},\n",
       "       {1.0: 0.64, 0.0: 0.36}, {1.0: 0.64, 0.0: 0.36},\n",
       "       {0.0: 0.9020618556701031, 1.0: 0.0979381443298969},\n",
       "       {1.0: 0.64, 0.0: 0.36},\n",
       "       {1.0: 0.8959537572254336, 0.0: 0.10404624277456648},\n",
       "       {0.0: 0.7207207207207207, 1.0: 0.27927927927927926},\n",
       "       {0.0: 0.7207207207207207, 1.0: 0.27927927927927926},\n",
       "       {1.0: 0.8959537572254336, 0.0: 0.10404624277456648},\n",
       "       {1.0: 0.64, 0.0: 0.36},\n",
       "       {0.0: 0.9020618556701031, 1.0: 0.0979381443298969},\n",
       "       {0.0: 0.9020618556701031, 1.0: 0.0979381443298969},\n",
       "       {0.0: 0.9020618556701031, 1.0: 0.0979381443298969},\n",
       "       {0.0: 0.9020618556701031, 1.0: 0.0979381443298969},\n",
       "       {0.0: 0.7207207207207207, 1.0: 0.27927927927927926},\n",
       "       {1.0: 0.8959537572254336, 0.0: 0.10404624277456648},\n",
       "       {1.0: 0.8959537572254336, 0.0: 0.10404624277456648},\n",
       "       {0.0: 0.7207207207207207, 1.0: 0.27927927927927926},\n",
       "       {1.0: 0.8959537572254336, 0.0: 0.10404624277456648},\n",
       "       {1.0: 0.8959537572254336, 0.0: 0.10404624277456648},\n",
       "       {0.0: 0.9020618556701031, 1.0: 0.0979381443298969},\n",
       "       {0.0: 0.7207207207207207, 1.0: 0.27927927927927926},\n",
       "       {1.0: 0.8959537572254336, 0.0: 0.10404624277456648},\n",
       "       {0.0: 0.9020618556701031, 1.0: 0.0979381443298969},\n",
       "       {1.0: 0.8959537572254336, 0.0: 0.10404624277456648},\n",
       "       {0.0: 0.9020618556701031, 1.0: 0.0979381443298969},\n",
       "       {1.0: 0.8959537572254336, 0.0: 0.10404624277456648},\n",
       "       {0.0: 0.9020618556701031, 1.0: 0.0979381443298969},\n",
       "       {0.0: 0.9111111111111111, 1.0: 0.08888888888888889},\n",
       "       {0.0: 0.9020618556701031, 1.0: 0.0979381443298969},\n",
       "       {0.0: 0.9020618556701031, 1.0: 0.0979381443298969},\n",
       "       {0.0: 0.9020618556701031, 1.0: 0.0979381443298969},\n",
       "       {1.0: 0.64, 0.0: 0.36},\n",
       "       {0.0: 0.9020618556701031, 1.0: 0.0979381443298969},\n",
       "       {1.0: 0.8959537572254336, 0.0: 0.10404624277456648},\n",
       "       {0.0: 0.9020618556701031, 1.0: 0.0979381443298969},\n",
       "       {1.0: 0.8959537572254336, 0.0: 0.10404624277456648},\n",
       "       {1.0: 0.64, 0.0: 0.36},\n",
       "       {0.0: 0.9020618556701031, 1.0: 0.0979381443298969},\n",
       "       {1.0: 0.64, 0.0: 0.36}, {1.0: 0.64, 0.0: 0.36},\n",
       "       {1.0: 0.64, 0.0: 0.36},\n",
       "       {1.0: 0.8959537572254336, 0.0: 0.10404624277456648},\n",
       "       {1.0: 0.8959537572254336, 0.0: 0.10404624277456648},\n",
       "       {0.0: 0.9020618556701031, 1.0: 0.0979381443298969},\n",
       "       {0.0: 0.9020618556701031, 1.0: 0.0979381443298969},\n",
       "       {1.0: 0.64, 0.0: 0.36},\n",
       "       {0.0: 0.9020618556701031, 1.0: 0.0979381443298969},\n",
       "       {1.0: 0.8959537572254336, 0.0: 0.10404624277456648},\n",
       "       {0.0: 0.9020618556701031, 1.0: 0.0979381443298969},\n",
       "       {0.0: 0.9020618556701031, 1.0: 0.0979381443298969},\n",
       "       {0.0: 0.9020618556701031, 1.0: 0.0979381443298969},\n",
       "       {0.0: 0.7207207207207207, 1.0: 0.27927927927927926},\n",
       "       {1.0: 0.8959537572254336, 0.0: 0.10404624277456648},\n",
       "       {0.0: 0.9111111111111111, 1.0: 0.08888888888888889},\n",
       "       {0.0: 0.7207207207207207, 1.0: 0.27927927927927926},\n",
       "       {1.0: 0.64, 0.0: 0.36},\n",
       "       {0.0: 0.7207207207207207, 1.0: 0.27927927927927926},\n",
       "       {1.0: 0.8959537572254336, 0.0: 0.10404624277456648},\n",
       "       {0.0: 0.9020618556701031, 1.0: 0.0979381443298969},\n",
       "       {1.0: 0.64, 0.0: 0.36},\n",
       "       {0.0: 0.9020618556701031, 1.0: 0.0979381443298969},\n",
       "       {1.0: 0.64, 0.0: 0.36},\n",
       "       {0.0: 0.9020618556701031, 1.0: 0.0979381443298969},\n",
       "       {1.0: 0.8959537572254336, 0.0: 0.10404624277456648},\n",
       "       {1.0: 0.64, 0.0: 0.36},\n",
       "       {0.0: 0.9020618556701031, 1.0: 0.0979381443298969},\n",
       "       {1.0: 0.64, 0.0: 0.36},\n",
       "       {0.0: 0.9020618556701031, 1.0: 0.0979381443298969},\n",
       "       {0.0: 0.9020618556701031, 1.0: 0.0979381443298969},\n",
       "       {0.0: 0.7207207207207207, 1.0: 0.27927927927927926},\n",
       "       {1.0: 0.8959537572254336, 0.0: 0.10404624277456648},\n",
       "       {0.0: 0.9020618556701031, 1.0: 0.0979381443298969},\n",
       "       {0.0: 0.9020618556701031, 1.0: 0.0979381443298969},\n",
       "       {0.0: 0.7207207207207207, 1.0: 0.27927927927927926},\n",
       "       {0.0: 0.9020618556701031, 1.0: 0.0979381443298969},\n",
       "       {0.0: 0.7207207207207207, 1.0: 0.27927927927927926},\n",
       "       {0.0: 0.9020618556701031, 1.0: 0.0979381443298969},\n",
       "       {1.0: 0.64, 0.0: 0.36},\n",
       "       {1.0: 0.8959537572254336, 0.0: 0.10404624277456648},\n",
       "       {1.0: 0.8959537572254336, 0.0: 0.10404624277456648},\n",
       "       {1.0: 0.8959537572254336, 0.0: 0.10404624277456648},\n",
       "       {0.0: 0.7207207207207207, 1.0: 0.27927927927927926},\n",
       "       {0.0: 0.9020618556701031, 1.0: 0.0979381443298969},\n",
       "       {1.0: 0.8959537572254336, 0.0: 0.10404624277456648},\n",
       "       {0.0: 0.7207207207207207, 1.0: 0.27927927927927926},\n",
       "       {1.0: 0.8959537572254336, 0.0: 0.10404624277456648},\n",
       "       {0.0: 0.7207207207207207, 1.0: 0.27927927927927926},\n",
       "       {1.0: 0.8959537572254336, 0.0: 0.10404624277456648},\n",
       "       {1.0: 0.64, 0.0: 0.36},\n",
       "       {1.0: 0.8959537572254336, 0.0: 0.10404624277456648},\n",
       "       {0.0: 0.9020618556701031, 1.0: 0.0979381443298969},\n",
       "       {0.0: 0.7207207207207207, 1.0: 0.27927927927927926},\n",
       "       {0.0: 0.9020618556701031, 1.0: 0.0979381443298969},\n",
       "       {0.0: 0.9020618556701031, 1.0: 0.0979381443298969},\n",
       "       {0.0: 0.9020618556701031, 1.0: 0.0979381443298969},\n",
       "       {0.0: 0.9020618556701031, 1.0: 0.0979381443298969},\n",
       "       {0.0: 0.9020618556701031, 1.0: 0.0979381443298969},\n",
       "       {1.0: 0.64, 0.0: 0.36},\n",
       "       {0.0: 0.9020618556701031, 1.0: 0.0979381443298969},\n",
       "       {0.0: 0.9020618556701031, 1.0: 0.0979381443298969},\n",
       "       {0.0: 0.9020618556701031, 1.0: 0.0979381443298969},\n",
       "       {1.0: 0.8959537572254336, 0.0: 0.10404624277456648},\n",
       "       {1.0: 0.64, 0.0: 0.36},\n",
       "       {0.0: 0.9020618556701031, 1.0: 0.0979381443298969},\n",
       "       {0.0: 0.9020618556701031, 1.0: 0.0979381443298969},\n",
       "       {0.0: 0.9020618556701031, 1.0: 0.0979381443298969},\n",
       "       {0.0: 0.9020618556701031, 1.0: 0.0979381443298969},\n",
       "       {1.0: 0.64, 0.0: 0.36},\n",
       "       {0.0: 0.9020618556701031, 1.0: 0.0979381443298969},\n",
       "       {0.0: 0.7207207207207207, 1.0: 0.27927927927927926},\n",
       "       {0.0: 0.9020618556701031, 1.0: 0.0979381443298969},\n",
       "       {1.0: 0.8959537572254336, 0.0: 0.10404624277456648},\n",
       "       {1.0: 0.64, 0.0: 0.36},\n",
       "       {0.0: 0.9020618556701031, 1.0: 0.0979381443298969},\n",
       "       {1.0: 0.8959537572254336, 0.0: 0.10404624277456648},\n",
       "       {0.0: 0.9020618556701031, 1.0: 0.0979381443298969},\n",
       "       {0.0: 0.9020618556701031, 1.0: 0.0979381443298969},\n",
       "       {0.0: 0.9020618556701031, 1.0: 0.0979381443298969},\n",
       "       {0.0: 0.9020618556701031, 1.0: 0.0979381443298969},\n",
       "       {1.0: 0.64, 0.0: 0.36}, {1.0: 0.64, 0.0: 0.36},\n",
       "       {1.0: 0.64, 0.0: 0.36}, {1.0: 0.64, 0.0: 0.36},\n",
       "       {1.0: 0.8959537572254336, 0.0: 0.10404624277456648},\n",
       "       {0.0: 0.9020618556701031, 1.0: 0.0979381443298969},\n",
       "       {0.0: 0.9020618556701031, 1.0: 0.0979381443298969},\n",
       "       {0.0: 0.7207207207207207, 1.0: 0.27927927927927926},\n",
       "       {0.0: 0.9020618556701031, 1.0: 0.0979381443298969},\n",
       "       {0.0: 0.9020618556701031, 1.0: 0.0979381443298969},\n",
       "       {0.0: 0.7207207207207207, 1.0: 0.27927927927927926},\n",
       "       {1.0: 0.64, 0.0: 0.36},\n",
       "       {0.0: 0.9020618556701031, 1.0: 0.0979381443298969},\n",
       "       {1.0: 0.8959537572254336, 0.0: 0.10404624277456648},\n",
       "       {0.0: 0.9020618556701031, 1.0: 0.0979381443298969},\n",
       "       {0.0: 0.9020618556701031, 1.0: 0.0979381443298969},\n",
       "       {1.0: 0.8959537572254336, 0.0: 0.10404624277456648},\n",
       "       {0.0: 0.9020618556701031, 1.0: 0.0979381443298969},\n",
       "       {0.0: 0.7207207207207207, 1.0: 0.27927927927927926},\n",
       "       {0.0: 0.9020618556701031, 1.0: 0.0979381443298969},\n",
       "       {0.0: 0.9020618556701031, 1.0: 0.0979381443298969},\n",
       "       {1.0: 0.5, 0.0: 0.5},\n",
       "       {0.0: 0.9020618556701031, 1.0: 0.0979381443298969},\n",
       "       {0.0: 0.9020618556701031, 1.0: 0.0979381443298969},\n",
       "       {1.0: 0.64, 0.0: 0.36},\n",
       "       {1.0: 0.8959537572254336, 0.0: 0.10404624277456648},\n",
       "       {0.0: 0.7207207207207207, 1.0: 0.27927927927927926},\n",
       "       {1.0: 0.64, 0.0: 0.36},\n",
       "       {0.0: 0.7207207207207207, 1.0: 0.27927927927927926},\n",
       "       {1.0: 0.64, 0.0: 0.36},\n",
       "       {0.0: 0.9020618556701031, 1.0: 0.0979381443298969},\n",
       "       {0.0: 0.9020618556701031, 1.0: 0.0979381443298969},\n",
       "       {0.0: 0.9020618556701031, 1.0: 0.0979381443298969},\n",
       "       {1.0: 0.64, 0.0: 0.36},\n",
       "       {1.0: 0.8959537572254336, 0.0: 0.10404624277456648},\n",
       "       {1.0: 0.64, 0.0: 0.36},\n",
       "       {0.0: 0.7207207207207207, 1.0: 0.27927927927927926},\n",
       "       {0.0: 0.9020618556701031, 1.0: 0.0979381443298969},\n",
       "       {0.0: 0.9020618556701031, 1.0: 0.0979381443298969},\n",
       "       {0.0: 0.7207207207207207, 1.0: 0.27927927927927926},\n",
       "       {0.0: 0.9020618556701031, 1.0: 0.0979381443298969},\n",
       "       {0.0: 0.9020618556701031, 1.0: 0.0979381443298969},\n",
       "       {0.0: 0.9020618556701031, 1.0: 0.0979381443298969},\n",
       "       {1.0: 0.6875, 0.0: 0.3125},\n",
       "       {1.0: 0.8959537572254336, 0.0: 0.10404624277456648},\n",
       "       {0.0: 0.9020618556701031, 1.0: 0.0979381443298969},\n",
       "       {1.0: 0.8959537572254336, 0.0: 0.10404624277456648},\n",
       "       {0.0: 0.7207207207207207, 1.0: 0.27927927927927926},\n",
       "       {0.0: 0.9020618556701031, 1.0: 0.0979381443298969},\n",
       "       {0.0: 0.9020618556701031, 1.0: 0.0979381443298969},\n",
       "       {1.0: 0.8959537572254336, 0.0: 0.10404624277456648},\n",
       "       {0.0: 0.7207207207207207, 1.0: 0.27927927927927926},\n",
       "       {0.0: 0.9020618556701031, 1.0: 0.0979381443298969},\n",
       "       {1.0: 0.64, 0.0: 0.36},\n",
       "       {0.0: 0.9020618556701031, 1.0: 0.0979381443298969},\n",
       "       {0.0: 0.9020618556701031, 1.0: 0.0979381443298969},\n",
       "       {0.0: 0.9020618556701031, 1.0: 0.0979381443298969},\n",
       "       {0.0: 0.9020618556701031, 1.0: 0.0979381443298969},\n",
       "       {0.0: 0.7207207207207207, 1.0: 0.27927927927927926},\n",
       "       {1.0: 0.64, 0.0: 0.36},\n",
       "       {0.0: 0.9020618556701031, 1.0: 0.0979381443298969},\n",
       "       {0.0: 0.9020618556701031, 1.0: 0.0979381443298969},\n",
       "       {0.0: 0.7207207207207207, 1.0: 0.27927927927927926},\n",
       "       {1.0: 0.8959537572254336, 0.0: 0.10404624277456648},\n",
       "       {1.0: 0.64, 0.0: 0.36}, {1.0: 0.64, 0.0: 0.36},\n",
       "       {0.0: 0.9020618556701031, 1.0: 0.0979381443298969},\n",
       "       {1.0: 0.64, 0.0: 0.36},\n",
       "       {0.0: 0.9020618556701031, 1.0: 0.0979381443298969},\n",
       "       {1.0: 0.8959537572254336, 0.0: 0.10404624277456648},\n",
       "       {1.0: 0.8959537572254336, 0.0: 0.10404624277456648},\n",
       "       {0.0: 0.9020618556701031, 1.0: 0.0979381443298969},\n",
       "       {0.0: 0.7207207207207207, 1.0: 0.27927927927927926},\n",
       "       {0.0: 0.7207207207207207, 1.0: 0.27927927927927926},\n",
       "       {1.0: 0.8959537572254336, 0.0: 0.10404624277456648},\n",
       "       {0.0: 0.9020618556701031, 1.0: 0.0979381443298969},\n",
       "       {1.0: 0.8959537572254336, 0.0: 0.10404624277456648},\n",
       "       {0.0: 0.9020618556701031, 1.0: 0.0979381443298969},\n",
       "       {0.0: 0.9020618556701031, 1.0: 0.0979381443298969},\n",
       "       {1.0: 0.64, 0.0: 0.36},\n",
       "       {0.0: 0.9111111111111111, 1.0: 0.08888888888888889},\n",
       "       {1.0: 0.8959537572254336, 0.0: 0.10404624277456648},\n",
       "       {1.0: 0.8959537572254336, 0.0: 0.10404624277456648},\n",
       "       {0.0: 0.9020618556701031, 1.0: 0.0979381443298969},\n",
       "       {1.0: 0.8959537572254336, 0.0: 0.10404624277456648},\n",
       "       {0.0: 0.9111111111111111, 1.0: 0.08888888888888889},\n",
       "       {0.0: 0.9020618556701031, 1.0: 0.0979381443298969},\n",
       "       {1.0: 0.8959537572254336, 0.0: 0.10404624277456648},\n",
       "       {1.0: 0.8959537572254336, 0.0: 0.10404624277456648},\n",
       "       {0.0: 0.9020618556701031, 1.0: 0.0979381443298969},\n",
       "       {0.0: 0.9020618556701031, 1.0: 0.0979381443298969},\n",
       "       {1.0: 0.8959537572254336, 0.0: 0.10404624277456648},\n",
       "       {0.0: 0.9020618556701031, 1.0: 0.0979381443298969},\n",
       "       {0.0: 0.9020618556701031, 1.0: 0.0979381443298969},\n",
       "       {1.0: 0.8959537572254336, 0.0: 0.10404624277456648},\n",
       "       {1.0: 0.8959537572254336, 0.0: 0.10404624277456648},\n",
       "       {1.0: 0.64, 0.0: 0.36},\n",
       "       {0.0: 0.9020618556701031, 1.0: 0.0979381443298969},\n",
       "       {0.0: 0.7207207207207207, 1.0: 0.27927927927927926},\n",
       "       {0.0: 0.9111111111111111, 1.0: 0.08888888888888889},\n",
       "       {0.0: 0.9020618556701031, 1.0: 0.0979381443298969},\n",
       "       {0.0: 0.9020618556701031, 1.0: 0.0979381443298969},\n",
       "       {1.0: 0.64, 0.0: 0.36}, {1.0: 0.64, 0.0: 0.36},\n",
       "       {0.0: 0.9020618556701031, 1.0: 0.0979381443298969},\n",
       "       {1.0: 0.8959537572254336, 0.0: 0.10404624277456648},\n",
       "       {0.0: 0.9020618556701031, 1.0: 0.0979381443298969},\n",
       "       {0.0: 0.9020618556701031, 1.0: 0.0979381443298969},\n",
       "       {0.0: 0.9020618556701031, 1.0: 0.0979381443298969},\n",
       "       {0.0: 0.9111111111111111, 1.0: 0.08888888888888889},\n",
       "       {0.0: 0.7207207207207207, 1.0: 0.27927927927927926},\n",
       "       {1.0: 0.8959537572254336, 0.0: 0.10404624277456648},\n",
       "       {1.0: 0.8959537572254336, 0.0: 0.10404624277456648},\n",
       "       {0.0: 0.9020618556701031, 1.0: 0.0979381443298969},\n",
       "       {0.0: 0.9020618556701031, 1.0: 0.0979381443298969},\n",
       "       {1.0: 0.8959537572254336, 0.0: 0.10404624277456648},\n",
       "       {0.0: 0.9020618556701031, 1.0: 0.0979381443298969},\n",
       "       {1.0: 0.8959537572254336, 0.0: 0.10404624277456648},\n",
       "       {0.0: 0.9020618556701031, 1.0: 0.0979381443298969},\n",
       "       {0.0: 0.9020618556701031, 1.0: 0.0979381443298969},\n",
       "       {1.0: 0.8959537572254336, 0.0: 0.10404624277456648},\n",
       "       {0.0: 0.9020618556701031, 1.0: 0.0979381443298969},\n",
       "       {1.0: 0.8959537572254336, 0.0: 0.10404624277456648},\n",
       "       {0.0: 0.7207207207207207, 1.0: 0.27927927927927926},\n",
       "       {0.0: 0.7207207207207207, 1.0: 0.27927927927927926},\n",
       "       {1.0: 0.5, 0.0: 0.5},\n",
       "       {0.0: 0.9020618556701031, 1.0: 0.0979381443298969},\n",
       "       {0.0: 0.7207207207207207, 1.0: 0.27927927927927926},\n",
       "       {1.0: 0.64, 0.0: 0.36}, {1.0: 0.64, 0.0: 0.36},\n",
       "       {1.0: 0.64, 0.0: 0.36},\n",
       "       {1.0: 0.8959537572254336, 0.0: 0.10404624277456648},\n",
       "       {1.0: 0.64, 0.0: 0.36},\n",
       "       {0.0: 0.9020618556701031, 1.0: 0.0979381443298969},\n",
       "       {1.0: 0.8959537572254336, 0.0: 0.10404624277456648},\n",
       "       {0.0: 0.9020618556701031, 1.0: 0.0979381443298969},\n",
       "       {0.0: 0.9020618556701031, 1.0: 0.0979381443298969},\n",
       "       {1.0: 0.8959537572254336, 0.0: 0.10404624277456648}], dtype=object)"
      ]
     },
     "execution_count": 225,
     "metadata": {},
     "output_type": "execute_result"
    }
   ],
   "source": [
    "model.predict_proba(test)"
   ]
  },
  {
   "cell_type": "code",
   "execution_count": 226,
   "metadata": {
    "ExecuteTime": {
     "end_time": "2019-03-16T01:10:25.341654Z",
     "start_time": "2019-03-16T01:10:24.984566Z"
    }
   },
   "outputs": [
    {
     "data": {
      "text/plain": [
       "array([0., 1., 0., 0., 1., 0., 1., 0., 1., 0., 0., 0., 1., 0., 1., 1., 0.,\n",
       "       0., 1., 1., 0., 1., 1., 0., 1., 0., 1., 0., 0., 0., 0., 0., 1., 1.,\n",
       "       0., 0., 1., 1., 0., 0., 0., 1., 0., 1., 1., 0., 0., 0., 1., 1., 0.,\n",
       "       0., 1., 1., 0., 0., 0., 0., 0., 1., 0., 0., 0., 1., 1., 1., 1., 0.,\n",
       "       0., 1., 1., 0., 1., 0., 1., 0., 0., 1., 0., 1., 1., 0., 0., 0., 0.,\n",
       "       0., 1., 1., 1., 1., 1., 0., 1., 0., 0., 0., 1., 0., 1., 0., 1., 0.,\n",
       "       0., 0., 1., 0., 0., 0., 0., 0., 0., 1., 1., 1., 1., 0., 0., 1., 0.,\n",
       "       1., 1., 0., 1., 0., 0., 1., 0., 1., 0., 0., 0., 1., 0., 0., 0., 0.,\n",
       "       0., 0., 1., 0., 0., 1., 0., 0., 1., 0., 0., 0., 1., 1., 1., 0., 0.,\n",
       "       1., 0., 0., 1., 1., 1., 1., 1., 1., 1., 0., 1., 1., 0., 0., 1., 1.,\n",
       "       0., 0., 0., 0., 0., 1., 1., 0., 1., 1., 0., 0., 1., 0., 1., 0., 1.,\n",
       "       0., 0., 0., 0., 0., 1., 0., 1., 0., 1., 1., 0., 1., 1., 1., 1., 1.,\n",
       "       0., 0., 1., 0., 1., 0., 0., 0., 0., 1., 0., 0., 1., 0., 1., 0., 1.,\n",
       "       0., 1., 0., 1., 1., 0., 1., 0., 0., 0., 1., 0., 0., 0., 0., 0., 0.,\n",
       "       1., 1., 1., 1., 0., 0., 1., 0., 1., 0., 1., 1., 1., 0., 0., 0., 0.,\n",
       "       0., 0., 0., 1., 0., 0., 0., 1., 1., 0., 0., 0., 0., 1., 0., 0., 0.,\n",
       "       1., 1., 0., 1., 0., 0., 0., 0., 1., 1., 1., 1., 1., 0., 0., 0., 0.,\n",
       "       0., 0., 1., 0., 1., 0., 0., 1., 0., 0., 0., 0., 1., 0., 0., 1., 1.,\n",
       "       0., 1., 0., 1., 0., 0., 0., 1., 1., 1., 0., 0., 0., 0., 0., 0., 0.,\n",
       "       1., 1., 0., 1., 0., 0., 0., 1., 0., 0., 1., 0., 0., 0., 0., 0., 1.,\n",
       "       0., 0., 0., 1., 1., 1., 0., 1., 0., 1., 1., 0., 0., 0., 1., 0., 1.,\n",
       "       0., 0., 1., 0., 1., 1., 0., 1., 0., 0., 1., 1., 0., 0., 1., 0., 0.,\n",
       "       1., 1., 1., 0., 0., 0., 0., 0., 1., 1., 0., 1., 0., 0., 0., 0., 0.,\n",
       "       1., 1., 0., 0., 1., 0., 1., 0., 0., 1., 0., 1., 0., 0., 1., 0., 0.,\n",
       "       1., 1., 1., 1., 1., 0., 1., 0., 0., 1.])"
      ]
     },
     "execution_count": 226,
     "metadata": {},
     "output_type": "execute_result"
    }
   ],
   "source": [
    "model.predict_class(test)"
   ]
  },
  {
   "cell_type": "markdown",
   "metadata": {},
   "source": [
    "##### Test multiclass"
   ]
  },
  {
   "cell_type": "code",
   "execution_count": 227,
   "metadata": {
    "ExecuteTime": {
     "end_time": "2019-03-16T01:10:32.841141Z",
     "start_time": "2019-03-16T01:10:32.832621Z"
    }
   },
   "outputs": [],
   "source": [
    "iris = load_iris()\n",
    "df = pd.DataFrame(data=iris.data, columns=iris.feature_names)\n",
    "df['target'] = iris.target"
   ]
  },
  {
   "cell_type": "code",
   "execution_count": 228,
   "metadata": {
    "ExecuteTime": {
     "end_time": "2019-03-16T01:10:33.328413Z",
     "start_time": "2019-03-16T01:10:33.316789Z"
    }
   },
   "outputs": [
    {
     "name": "stdout",
     "output_type": "stream",
     "text": [
      "<class 'pandas.core.frame.DataFrame'>\n",
      "RangeIndex: 150 entries, 0 to 149\n",
      "Data columns (total 5 columns):\n",
      "sepal length (cm)    150 non-null float64\n",
      "sepal width (cm)     150 non-null float64\n",
      "petal length (cm)    150 non-null float64\n",
      "petal width (cm)     150 non-null float64\n",
      "target               150 non-null int64\n",
      "dtypes: float64(4), int64(1)\n",
      "memory usage: 5.9 KB\n"
     ]
    }
   ],
   "source": [
    "df.info()"
   ]
  },
  {
   "cell_type": "code",
   "execution_count": 254,
   "metadata": {
    "ExecuteTime": {
     "end_time": "2019-03-16T01:35:49.221074Z",
     "start_time": "2019-03-16T01:35:49.217349Z"
    }
   },
   "outputs": [],
   "source": [
    "l = list(range(len(df)))\n",
    "np.random.shuffle(l)\n",
    "train_idx = l[0:int(len(l)*0.8)]\n",
    "test_idx = l[int(len(l)*0.8):]"
   ]
  },
  {
   "cell_type": "code",
   "execution_count": 255,
   "metadata": {
    "ExecuteTime": {
     "end_time": "2019-03-16T01:35:49.514865Z",
     "start_time": "2019-03-16T01:35:49.508655Z"
    }
   },
   "outputs": [],
   "source": [
    "train = df.iloc[train_idx]\n",
    "test = df.iloc[test_idx]"
   ]
  },
  {
   "cell_type": "code",
   "execution_count": 256,
   "metadata": {
    "ExecuteTime": {
     "end_time": "2019-03-16T01:35:52.329119Z",
     "start_time": "2019-03-16T01:35:50.228068Z"
    }
   },
   "outputs": [
    {
     "name": "stdout",
     "output_type": "stream",
     "text": [
      "processing at Depth: 1\n",
      "processing at Depth: 2\n",
      "processing at Depth: 2\n",
      "processing at Depth: 3\n",
      "processing at Depth: 4\n",
      "processing at Depth: 5\n",
      "processing at Depth: 6\n",
      "processing at Depth: 6\n",
      "processing at Depth: 5\n",
      "processing at Depth: 4\n",
      "processing at Depth: 5\n",
      "processing at Depth: 5\n",
      "processing at Depth: 3\n",
      "processing at Depth: 4\n",
      "processing at Depth: 5\n",
      "processing at Depth: 5\n",
      "processing at Depth: 4\n"
     ]
    }
   ],
   "source": [
    "model = DecisionTree()\n",
    "model.fit(train, 'target')"
   ]
  },
  {
   "cell_type": "code",
   "execution_count": 257,
   "metadata": {
    "ExecuteTime": {
     "end_time": "2019-03-16T01:35:53.594354Z",
     "start_time": "2019-03-16T01:35:53.546239Z"
    }
   },
   "outputs": [
    {
     "data": {
      "text/plain": [
       "array([1, 0, 1, 2, 2, 2, 2, 1, 0, 0, 0, 0, 0, 2, 1, 0, 2, 0, 0, 1, 0, 2,\n",
       "       2, 0, 1, 1, 0, 2, 1, 1])"
      ]
     },
     "execution_count": 257,
     "metadata": {},
     "output_type": "execute_result"
    }
   ],
   "source": [
    "model.predict_class(test)"
   ]
  },
  {
   "cell_type": "code",
   "execution_count": 258,
   "metadata": {
    "ExecuteTime": {
     "end_time": "2019-03-16T01:35:54.597423Z",
     "start_time": "2019-03-16T01:35:54.548449Z"
    }
   },
   "outputs": [
    {
     "data": {
      "text/plain": [
       "0.9666666666666667"
      ]
     },
     "execution_count": 258,
     "metadata": {},
     "output_type": "execute_result"
    }
   ],
   "source": [
    "np.sum(np.array(test.target) == model.predict_class(test))/ len(test)"
   ]
  }
 ],
 "metadata": {
  "kernelspec": {
   "display_name": "Python 3",
   "language": "python",
   "name": "python3"
  },
  "language_info": {
   "codemirror_mode": {
    "name": "ipython",
    "version": 3
   },
   "file_extension": ".py",
   "mimetype": "text/x-python",
   "name": "python",
   "nbconvert_exporter": "python",
   "pygments_lexer": "ipython3",
   "version": "3.7.2"
  },
  "toc": {
   "base_numbering": 1,
   "nav_menu": {},
   "number_sections": true,
   "sideBar": true,
   "skip_h1_title": false,
   "title_cell": "Table of Contents",
   "title_sidebar": "Contents",
   "toc_cell": false,
   "toc_position": {},
   "toc_section_display": true,
   "toc_window_display": true
  }
 },
 "nbformat": 4,
 "nbformat_minor": 2
}
