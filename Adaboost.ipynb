{
  "cells": [
    {
      "cell_type": "markdown",
      "source": [
        "# Adaboost frim scratch"
      ],
      "metadata": {
        "deletable": false,
        "editable": false,
        "nbgrader": {
          "checksum": "e48dfa30529c5d003afa0f89b5b66380",
          "grade": false,
          "grade_id": "cell-cfc24d80c2cf2c24",
          "locked": true,
          "schema_version": 1,
          "solution": false
        }
      }
    },
    {
      "cell_type": "code",
      "source": [
        "import numpy as np\n",
        "from sklearn.tree import DecisionTreeClassifier"
      ],
      "outputs": [],
      "execution_count": 40,
      "metadata": {
        "ExecuteTime": {
          "end_time": "2019-02-13T02:30:01.755787Z",
          "start_time": "2019-02-13T02:29:59.067434Z"
        },
        "deletable": false,
        "editable": false,
        "nbgrader": {
          "checksum": "721eeb40a1514114e45b42ea010de91b",
          "grade": false,
          "grade_id": "cell-3478d607a536190b",
          "locked": true,
          "schema_version": 1,
          "solution": false
        }
      }
    },
    {
      "cell_type": "code",
      "source": [
        "import warnings\n",
        "warnings.filterwarnings('error', category=RuntimeWarning)"
      ],
      "outputs": [],
      "execution_count": 41,
      "metadata": {
        "ExecuteTime": {
          "end_time": "2019-02-13T02:30:01.761689Z",
          "start_time": "2019-02-13T02:30:01.758220Z"
        }
      }
    },
    {
      "cell_type": "code",
      "source": [
        "# accuracy computation\n",
        "# this data is not highly imbalanced so accuracy is ok\n",
        "def accuracy(y, pred):\n",
        "    return np.sum(y == pred) / float(len(y)) "
      ],
      "outputs": [],
      "execution_count": 42,
      "metadata": {
        "ExecuteTime": {
          "end_time": "2019-02-13T02:30:01.768867Z",
          "start_time": "2019-02-13T02:30:01.763925Z"
        },
        "deletable": false,
        "editable": false,
        "nbgrader": {
          "checksum": "972dafdcfb3f1ff9461209980b03fa22",
          "grade": false,
          "grade_id": "cell-c56cb727222d9503",
          "locked": true,
          "schema_version": 1,
          "solution": false
        }
      }
    },
    {
      "cell_type": "code",
      "source": [
        "def parse_spambase_data(filename):\n",
        "    \"\"\" Given a filename return X and Y numpy arrays\n",
        "\n",
        "    X is of size number of rows x num_features\n",
        "    Y is an array of size the number of rows\n",
        "    Y is the last element of each row. (Convert 0 to -1)\n",
        "    \"\"\"\n",
        "    with open(filename) as t:\n",
        "        mat = t.readlines()\n",
        "    mat = [l.rstrip() for l in mat]\n",
        "    mat= np.array([list(map(float,m.split(','))) for i,m in enumerate(mat)])\n",
        "    X = mat[:,0:-1]\n",
        "    Y = mat[:,-1]\n",
        "    Y[Y == 0] = -1.0\n",
        "    \n",
        "    return X, Y"
      ],
      "outputs": [],
      "execution_count": 43,
      "metadata": {
        "ExecuteTime": {
          "end_time": "2019-02-13T02:30:01.776415Z",
          "start_time": "2019-02-13T02:30:01.771679Z"
        },
        "deletable": false,
        "nbgrader": {
          "checksum": "d133f796b3b7db028e1c1ed875771c65",
          "grade": false,
          "grade_id": "cell-1eaf818528c8d676",
          "locked": false,
          "schema_version": 1,
          "solution": true
        }
      }
    },
    {
      "cell_type": "code",
      "source": [
        "y_test = np.array([1., -1., 1., 1., -1., -1., 1., 1., 1., -1.])\n",
        "X, Y = parse_spambase_data(\"tiny.spam.train\")\n",
        "for i in range(len(y_test)): assert(y_test[i] == Y[i])\n",
        "n, m = X.shape\n",
        "assert(n == 10)\n",
        "assert(m == 57)"
      ],
      "outputs": [],
      "execution_count": 44,
      "metadata": {
        "ExecuteTime": {
          "end_time": "2019-02-13T02:30:01.783827Z",
          "start_time": "2019-02-13T02:30:01.778807Z"
        },
        "deletable": false,
        "editable": false,
        "nbgrader": {
          "checksum": "871278b33c2d3da9fb8d7cbf4f4dd23d",
          "grade": true,
          "grade_id": "cell-73926460e1f70f54",
          "locked": true,
          "points": 1,
          "schema_version": 1,
          "solution": false
        }
      }
    },
    {
      "cell_type": "code",
      "source": [
        "def adaboost(X, y, num_iter, max_depth=1):\n",
        "    \"\"\"Given an numpy matrix X, a array y and num_iter return trees and weights \n",
        "   \n",
        "    Input: X, y, num_iter\n",
        "    Outputs: array of trees from DecisionTreeClassifier\n",
        "             trees_weights array of floats\n",
        "    Assumes y is {-1, 1}\n",
        "    \"\"\"\n",
        "    trees = []\n",
        "    trees_weights = [] \n",
        "    N, _ = X.shape\n",
        "    d = np.ones(N) / N\n",
        "    \n",
        "    for i in range(num_iter):\n",
        "        max_depth = 1\n",
        "        h= DecisionTreeClassifier(max_depth=max_depth, random_state=0)\n",
        "        h.fit(X, y, sample_weight=d)\n",
        "        trees.append(h)\n",
        "        pred = h.predict(X)\n",
        "        err = np.sum(d[y != pred])/np.sum(d)\n",
        "#         print(y, pred, err,d[y != pred], np.sum(d) )\n",
        "        if err != 0.0:\n",
        "            alpha = np.log((1-err)/err)\n",
        "            trees_weights.append(alpha)\n",
        "            d[y != pred] = d[y != pred]*np.exp(alpha)\n",
        "        else:\n",
        "            alpha = 1\n",
        "            trees_weights.append(alpha)\n",
        "            \n",
        "    return trees, trees_weights"
      ],
      "outputs": [],
      "execution_count": 45,
      "metadata": {
        "ExecuteTime": {
          "end_time": "2019-02-13T02:30:01.792050Z",
          "start_time": "2019-02-13T02:30:01.786223Z"
        },
        "deletable": false,
        "nbgrader": {
          "checksum": "49946defde679e3d5067209990da8485",
          "grade": false,
          "grade_id": "cell-befcece7be9c6839",
          "locked": false,
          "schema_version": 1,
          "solution": true
        }
      }
    },
    {
      "cell_type": "code",
      "source": [
        "X, Y = parse_spambase_data(\"tiny.spam.train\")\n",
        "trees, weights = adaboost(X, Y, 2)\n",
        "y_hat_0 = trees[0].predict(X)\n",
        "assert(len(trees) == 2)\n",
        "assert(len(weights) == 2)\n",
        "assert(isinstance(trees[0], DecisionTreeClassifier))\n",
        "assert(np.array_equal(y_hat_0[:5], [1.,-1.,1, 1, -1]))"
      ],
      "outputs": [],
      "execution_count": 46,
      "metadata": {
        "ExecuteTime": {
          "end_time": "2019-02-13T02:30:01.807065Z",
          "start_time": "2019-02-13T02:30:01.794198Z"
        },
        "deletable": false,
        "editable": false,
        "nbgrader": {
          "checksum": "a7c25b6f73f0861ca23b8fda93bcc4b5",
          "grade": true,
          "grade_id": "cell-4dc8edbf0e11fab8",
          "locked": true,
          "points": 1,
          "schema_version": 1,
          "solution": false
        }
      }
    },
    {
      "cell_type": "code",
      "source": [
        "y_hat_0 = trees[0].predict(X)\n",
        "assert(np.array_equal(y_hat_0[:5], [1.,-1.,1, 1, -1]))"
      ],
      "outputs": [],
      "execution_count": 47,
      "metadata": {
        "ExecuteTime": {
          "end_time": "2019-02-13T02:30:01.815701Z",
          "start_time": "2019-02-13T02:30:01.808972Z"
        },
        "deletable": false,
        "editable": false,
        "nbgrader": {
          "checksum": "2b8f4bd0c8741b22b8b1f01089416aee",
          "grade": true,
          "grade_id": "cell-8702186fedbd58e1",
          "locked": true,
          "points": 2,
          "schema_version": 1,
          "solution": false
        }
      }
    },
    {
      "cell_type": "code",
      "source": [
        "def adaboost_predict(X, trees, trees_weights):\n",
        "    \"\"\"Given X, trees and weights predict Y\n",
        "    \"\"\"\n",
        "    # X input, y output\n",
        "    N, _ =  X.shape\n",
        "    y = np.zeros(N)\n",
        "    \n",
        "    for t,w in zip(trees, trees_weights):\n",
        "        y += w*t.predict(X)\n",
        "        \n",
        "    y[y>=0] = 1\n",
        "    y[y<0] = -1\n",
        "    \n",
        "    return y"
      ],
      "outputs": [],
      "execution_count": 48,
      "metadata": {
        "ExecuteTime": {
          "end_time": "2019-02-13T02:30:02.661534Z",
          "start_time": "2019-02-13T02:30:02.656040Z"
        },
        "deletable": false,
        "nbgrader": {
          "checksum": "57a2d749acc1d974f996162a4fb190fc",
          "grade": false,
          "grade_id": "cell-50ad4a5c81e7c016",
          "locked": false,
          "schema_version": 1,
          "solution": true
        }
      }
    },
    {
      "cell_type": "code",
      "source": [
        "x = np.array([[0, -1], [1, 0], [-1, 0]])\n",
        "y = np.array([-1, 1, 1])\n",
        "trees, weights = adaboost(x, y, 1)\n",
        "pred = adaboost_predict(x, trees, weights)\n",
        "assert(np.array_equal(pred, y))"
      ],
      "outputs": [],
      "execution_count": 49,
      "metadata": {
        "ExecuteTime": {
          "end_time": "2019-02-13T02:30:03.105991Z",
          "start_time": "2019-02-13T02:30:03.099972Z"
        },
        "deletable": false,
        "editable": false,
        "nbgrader": {
          "checksum": "f7f00ac1cabd062ffb0fe8e87945b498",
          "grade": true,
          "grade_id": "cell-7f28f00061f7b5a5",
          "locked": true,
          "points": 3,
          "schema_version": 1,
          "solution": false
        }
      }
    },
    {
      "cell_type": "code",
      "source": [
        "X, Y = parse_spambase_data(\"spambase.train\")\n",
        "X_test, Y_test = parse_spambase_data(\"spambase.test\")\n",
        "trees, trees_weights = adaboost(X, Y, 10)\n",
        "Yhat = adaboost_predict(X, trees, trees_weights)\n",
        "Yhat_test = adaboost_predict(X_test, trees, trees_weights)\n",
        "    \n",
        "acc_test = accuracy(Y_test, Yhat_test)\n",
        "acc_train = accuracy(Y, Yhat)\n",
        "print(\"Train Accuracy %.4f\" % acc_train)\n",
        "print(\"Test Accuracy %.4f\" % acc_test)\n",
        "assert(np.around(acc_train, decimals=4)==0.9111)\n",
        "assert(np.around(acc_test, decimals=4)==0.9190)"
      ],
      "outputs": [
        {
          "output_type": "stream",
          "name": "stdout",
          "text": [
            "Train Accuracy 0.9111\n",
            "Test Accuracy 0.9190\n"
          ]
        }
      ],
      "execution_count": 50,
      "metadata": {
        "ExecuteTime": {
          "end_time": "2019-02-13T02:30:03.757310Z",
          "start_time": "2019-02-13T02:30:03.633616Z"
        },
        "deletable": false,
        "editable": false,
        "nbgrader": {
          "checksum": "6f5022208d3fd8fb43a8847635cdb82f",
          "grade": true,
          "grade_id": "cell-89126a5a7f8f0e1b",
          "locked": true,
          "points": 3,
          "schema_version": 1,
          "solution": false
        }
      }
    },
    {
      "cell_type": "markdown",
      "source": [
        "# Gradient boosting for regression with MSE loss"
      ],
      "metadata": {}
    },
    {
      "cell_type": "code",
      "source": [
        "def load_dataset():\n",
        "    dataset = np.loadtxt(\"rent-ideal.csv\", delimiter=\",\", skiprows=1)\n",
        "    y = dataset[:, -1]\n",
        "    X = dataset[:, 0:- 1]\n",
        "    return X, y"
      ],
      "outputs": [],
      "execution_count": 51,
      "metadata": {
        "ExecuteTime": {
          "end_time": "2019-02-13T02:30:05.925740Z",
          "start_time": "2019-02-13T02:30:05.922847Z"
        }
      }
    },
    {
      "cell_type": "code",
      "source": [
        "from sklearn.tree import DecisionTreeRegressor\n",
        "from sklearn.metrics import r2_score\n",
        "from sklearn.model_selection import train_test_split\n",
        "\n\n",
        "def gradient_boosting_mse(X, y, num_iter, max_depth=1, nu=0.1):\n",
        "    \"\"\"Given X, a array y and num_iter return y_mean and trees \n",
        "   \n",
        "    Input: X, y, num_iter\n",
        "           max_depth\n",
        "           nu (is the shinkage)\n",
        "    Outputs:y_mean, array of trees from DecisionTreeRegression\n",
        "    \"\"\"\n",
        "    trees = []\n",
        "    N, _ = X.shape\n",
        "    y_mean = np.mean(y)\n",
        "    fm = y_mean\n",
        "    \n",
        "    for i in range(num_iter):\n",
        "        r = y - fm\n",
        "        T = DecisionTreeRegressor(max_depth=max_depth, random_state=0)\n",
        "        T.fit(X,r)\n",
        "        preds = T.predict(X)*nu\n",
        "        fm = fm + preds\n",
        "        trees.append(T)\n",
        "\n    return y_mean, trees   "
      ],
      "outputs": [],
      "execution_count": 52,
      "metadata": {
        "ExecuteTime": {
          "end_time": "2019-02-13T02:30:06.422865Z",
          "start_time": "2019-02-13T02:30:06.399812Z"
        },
        "deletable": false,
        "nbgrader": {
          "checksum": "e942b309ddbabaf54f2e2fe42050c6ca",
          "grade": false,
          "grade_id": "cell-158a37c458437dee",
          "locked": false,
          "schema_version": 1,
          "solution": true
        }
      }
    },
    {
      "cell_type": "code",
      "source": [
        "X, y = load_dataset()\n",
        "X_train, X_val, y_train, y_val = train_test_split(X, y, test_size=0.33, random_state=3)\n",
        "\n",
        "y_mean, trees = gradient_boosting_mse(X_train, y_train, 300, max_depth=7, nu=0.1)\n"
      ],
      "outputs": [],
      "execution_count": 53,
      "metadata": {
        "ExecuteTime": {
          "end_time": "2019-02-13T02:30:14.394942Z",
          "start_time": "2019-02-13T02:30:06.880357Z"
        }
      }
    },
    {
      "cell_type": "code",
      "source": [
        "assert(np.around(y_mean, decimals=4)==3434.7185)"
      ],
      "outputs": [],
      "execution_count": 54,
      "metadata": {
        "ExecuteTime": {
          "end_time": "2019-02-13T02:30:14.400158Z",
          "start_time": "2019-02-13T02:30:14.397050Z"
        }
      }
    },
    {
      "cell_type": "code",
      "source": [
        "def gradient_boosting_predict(X, trees, y_mean,  nu=0.1):\n",
        "    \"\"\"Given X, trees, y_mean predict y_hat\n",
        "    \"\"\"\n",
        "    y_hat = y_mean\n",
        "    for t in trees:\n",
        "        y_hat += t.predict(X)*nu\n",
        "\n    return y_hat"
      ],
      "outputs": [],
      "execution_count": 55,
      "metadata": {
        "ExecuteTime": {
          "end_time": "2019-02-13T02:30:15.305405Z",
          "start_time": "2019-02-13T02:30:15.302126Z"
        },
        "deletable": false,
        "nbgrader": {
          "checksum": "23ef8af5df601472856fba1db00cbc5e",
          "grade": false,
          "grade_id": "cell-8ff3f16fc953ead4",
          "locked": false,
          "schema_version": 1,
          "solution": true
        }
      }
    },
    {
      "cell_type": "code",
      "source": [
        "X, y = load_dataset()\n",
        "X_train, X_val, y_train, y_val = train_test_split(X, y, test_size=0.33, random_state=3)\n",
        "\n",
        "y_mean, trees = gradient_boosting_mse(X_train, y_train, 300, max_depth=7, nu=0.1)\n",
        "assert(np.around(y_mean, decimals=4)==3434.7185)\n",
        "y_hat_train = gradient_boosting_predict(X_train, trees, y_mean, nu=0.1)\n",
        "assert(np.around(r2_score(y_train, y_hat_train), decimals=4)== 0.8993) "
      ],
      "outputs": [],
      "execution_count": 56,
      "metadata": {
        "ExecuteTime": {
          "end_time": "2019-02-13T02:30:24.467759Z",
          "start_time": "2019-02-13T02:30:15.843218Z"
        },
        "deletable": false,
        "editable": false,
        "nbgrader": {
          "checksum": "3229a54289b94079c8fcd31ef77ec778",
          "grade": true,
          "grade_id": "cell-f6f368de93b63c1c",
          "locked": true,
          "points": 2,
          "schema_version": 1,
          "solution": false
        }
      }
    },
    {
      "cell_type": "code",
      "source": [
        "y_hat = gradient_boosting_predict(X_val, trees, y_mean, nu=0.1)\n",
        "assert(np.around(r2_score(y_val, y_hat), decimals=4)== 0.8399)"
      ],
      "outputs": [],
      "execution_count": 57,
      "metadata": {
        "ExecuteTime": {
          "end_time": "2019-02-13T02:30:24.642949Z",
          "start_time": "2019-02-13T02:30:24.473238Z"
        },
        "deletable": false,
        "editable": false,
        "nbgrader": {
          "checksum": "435b2e4bc8f97d1d53d486b2c8cc55c2",
          "grade": true,
          "grade_id": "cell-62746a63ebdd7798",
          "locked": true,
          "points": 3,
          "schema_version": 1,
          "solution": false
        }
      }
    },
    {
      "cell_type": "markdown",
      "source": [
        "## (b) Plot num_trees vs $R^2$"
      ],
      "metadata": {}
    },
    {
      "cell_type": "code",
      "source": [
        "import time\n",
        "X, y = load_dataset()\n",
        "X_train, X_val, y_train, y_val = train_test_split(X, y, test_size=0.33, random_state=3)\n",
        "r2_t = []\n",
        "r2_v = []\n",
        "\n",
        "for i in range(200,2500,100):\n",
        "    start = time.time()\n",
        "    y_mean, trees = gradient_boosting_mse(X_train, y_train, i , max_depth=7, nu=0.1)\n",
        "    y_hat_train = gradient_boosting_predict(X_train, trees, y_mean, nu=0.1)\n",
        "    r2_t.append(np.around(r2_score(y_train, y_hat_train), decimals=4))\n",
        "    y_hat = gradient_boosting_predict(X_val, trees, y_mean, nu=0.1)\n",
        "    r2_v.append(np.around(r2_score(y_val, y_hat), decimals=4))\n",
        "    end = time.time()\n",
        "    \n",
        "    print(f'Process for {i} finished in %d secs' % round((end - start),4)) "
      ],
      "outputs": [
        {
          "output_type": "stream",
          "name": "stdout",
          "text": [
            "Process for 200 finished in 5 secs\n",
            "Process for 300 finished in 7 secs\n",
            "Process for 400 finished in 10 secs\n",
            "Process for 500 finished in 12 secs\n",
            "Process for 600 finished in 15 secs\n",
            "Process for 700 finished in 18 secs\n",
            "Process for 800 finished in 20 secs\n",
            "Process for 900 finished in 23 secs\n",
            "Process for 1000 finished in 26 secs\n",
            "Process for 1100 finished in 29 secs\n",
            "Process for 1200 finished in 31 secs\n",
            "Process for 1300 finished in 34 secs\n",
            "Process for 1400 finished in 35 secs\n",
            "Process for 1500 finished in 37 secs\n",
            "Process for 1600 finished in 40 secs\n",
            "Process for 1700 finished in 42 secs\n",
            "Process for 1800 finished in 45 secs\n",
            "Process for 1900 finished in 47 secs\n",
            "Process for 2000 finished in 50 secs\n",
            "Process for 2100 finished in 52 secs\n",
            "Process for 2200 finished in 55 secs\n",
            "Process for 2300 finished in 57 secs\n",
            "Process for 2400 finished in 61 secs\n"
          ]
        }
      ],
      "execution_count": 9,
      "metadata": {
        "ExecuteTime": {
          "end_time": "2019-02-10T20:44:18.609927Z",
          "start_time": "2019-02-10T20:31:38.237271Z"
        }
      }
    },
    {
      "cell_type": "markdown",
      "source": [
        "The validation $R^2$ increases and plateaus above 1000. A good choice for num_trees could be between 1000-1500 since there isnt much of difference in $R^2$"
      ],
      "metadata": {}
    },
    {
      "cell_type": "code",
      "source": [
        "import matplotlib.pyplot as plt\n",
        "% matplotlib inline\n",
        "x = list(range(200,2500,100))\n",
        "train, = plt.plot(x, r2_t, c = 'b', label = 'train')\n",
        "val, = plt.plot(x, r2_v, c = 'r', label = 'validation')\n",
        "plt.legend(handles=[train, val])\n",
        "\n\n",
        "plt.xticks( x, rotation = 90)\n",
        "plt.xlabel('# of trees')\n",
        "plt.ylabel('$R^2$')\n",
        "plt.legend()\n",
        "plt.ylim(0.8,1.)\n",
        "plt.show()"
      ],
      "outputs": [
        {
          "output_type": "display_data",
          "data": {
            "image/png": "[encoded data removed]",
            "text/plain": [
              "<Figure size 432x288 with 1 Axes>"
            ]
          },
          "metadata": {
            "needs_background": "light"
          }
        }
      ],
      "execution_count": 29,
      "metadata": {
        "ExecuteTime": {
          "end_time": "2019-02-10T21:23:34.506323Z",
          "start_time": "2019-02-10T21:23:34.361024Z"
        }
      }
    },
    {
      "cell_type": "code",
      "source": [
        "{k:v for k,v in zip(x,r2_v)}"
      ],
      "outputs": [
        {
          "output_type": "execute_result",
          "execution_count": 23,
          "data": {
            "text/plain": [
              "{200: 0.827,\n",
              " 300: 0.8399,\n",
              " 400: 0.8463,\n",
              " 500: 0.8511,\n",
              " 600: 0.8547,\n",
              " 700: 0.8572,\n",
              " 800: 0.8586,\n",
              " 900: 0.8596,\n",
              " 1000: 0.8602,\n",
              " 1100: 0.8606,\n",
              " 1200: 0.8609,\n",
              " 1300: 0.8612,\n",
              " 1400: 0.8614,\n",
              " 1500: 0.8615,\n",
              " 1600: 0.8616,\n",
              " 1700: 0.8617,\n",
              " 1800: 0.8617,\n",
              " 1900: 0.8617,\n",
              " 2000: 0.8618,\n",
              " 2100: 0.8617,\n",
              " 2200: 0.8616,\n",
              " 2300: 0.8616,\n",
              " 2400: 0.8616}"
            ]
          },
          "metadata": {}
        }
      ],
      "execution_count": 23,
      "metadata": {
        "ExecuteTime": {
          "end_time": "2019-02-10T21:11:34.719596Z",
          "start_time": "2019-02-10T21:11:34.713856Z"
        }
      }
    },
    {
      "cell_type": "markdown",
      "source": [
        "## (c) Change shrinkage"
      ],
      "metadata": {}
    },
    {
      "cell_type": "markdown",
      "source": [
        "**Observations:**\n",
        "    \n",
        ">* Xgboost trains much faster than Gradient boosting\n",
        "* However , the $R_2$ for same number of iterations is lower than Xgboost.\n",
        "* This could be because of the subsampling of data"
      ],
      "metadata": {
        "ExecuteTime": {
          "end_time": "2019-02-10T22:31:37.601927Z",
          "start_time": "2019-02-10T22:31:37.597857Z"
        }
      }
    },
    {
      "cell_type": "code",
      "source": [
        "import time\n",
        "X, y = load_dataset()\n",
        "X_train, X_val, y_train, y_val = train_test_split(X, y, test_size=0.33, random_state=3)\n",
        "r2_t = []\n",
        "r2_v = []\n",
        "\n",
        "for i in range(200,2500,100):\n",
        "    start = time.time()\n",
        "    xgbr = xgb.XGBRegressor(n_estimators= i , learning_rate=0.1, subsample=0.5, nthread=-1, silent =1, random_state=0)\n",
        "    xgbr.fit(X_train,y_train)\n",
        "    y_hat_train = xgbr.predict(X_train)\n",
        "    y_hat_val = xgbr.predict(X_val)\n",
        "    r2_t.append(np.around(r2_score(y_train, y_hat_train), decimals=4))\n",
        "    r2_v.append(np.around(r2_score(y_val, y_hat_val), decimals=4))\n",
        "\n",
        "    end = time.time()\n",
        "    \n",
        "    print(f'Process for {i} finished in %d secs' % round((end - start),4))"
      ],
      "outputs": [
        {
          "output_type": "stream",
          "name": "stdout",
          "text": [
            "Process for 200 finished in 1 secs\n",
            "Process for 300 finished in 1 secs\n",
            "Process for 400 finished in 2 secs\n",
            "Process for 500 finished in 3 secs\n",
            "Process for 600 finished in 3 secs\n",
            "Process for 700 finished in 4 secs\n",
            "Process for 800 finished in 5 secs\n",
            "Process for 900 finished in 6 secs\n",
            "Process for 1000 finished in 6 secs\n",
            "Process for 1100 finished in 7 secs\n",
            "Process for 1200 finished in 7 secs\n",
            "Process for 1300 finished in 8 secs\n",
            "Process for 1400 finished in 9 secs\n",
            "Process for 1500 finished in 10 secs\n",
            "Process for 1600 finished in 11 secs\n",
            "Process for 1700 finished in 11 secs\n",
            "Process for 1800 finished in 12 secs\n",
            "Process for 1900 finished in 12 secs\n",
            "Process for 2000 finished in 13 secs\n",
            "Process for 2100 finished in 14 secs\n",
            "Process for 2200 finished in 14 secs\n",
            "Process for 2300 finished in 15 secs\n",
            "Process for 2400 finished in 16 secs\n"
          ]
        }
      ],
      "execution_count": 66,
      "metadata": {
        "ExecuteTime": {
          "end_time": "2019-02-10T22:18:20.506926Z",
          "start_time": "2019-02-10T22:14:59.989801Z"
        }
      }
    },
    {
      "cell_type": "code",
      "source": [
        "import matplotlib.pyplot as plt\n",
        "% matplotlib inline\n",
        "x = list(range(200,2500,100))\n",
        "train, = plt.plot(x, r2_t, c = 'b', label = 'train')\n",
        "val, = plt.plot(x, r2_v, c = 'r', label = 'validation')\n",
        "plt.legend(handles=[train, val])\n",
        "\n\n",
        "plt.xticks( x, rotation = 90)\n",
        "plt.xlabel('# of trees')\n",
        "plt.ylabel('$R^2$')\n",
        "plt.legend()\n",
        "plt.ylim(0.7,1.)\n",
        "plt.show()"
      ],
      "outputs": [
        {
          "output_type": "display_data",
          "data": {
            "image/png": "[encoded data removed]",
            "text/plain": [
              "<Figure size 432x288 with 1 Axes>"
            ]
          },
          "metadata": {
            "needs_background": "light"
          }
        }
      ],
      "execution_count": 67,
      "metadata": {
        "ExecuteTime": {
          "end_time": "2019-02-10T22:18:20.651169Z",
          "start_time": "2019-02-10T22:18:20.509262Z"
        }
      }
    },
    {
      "cell_type": "code",
      "source": [
        "{k:v for k,v in zip(x,r2_v)}"
      ],
      "outputs": [
        {
          "output_type": "execute_result",
          "execution_count": 69,
          "data": {
            "text/plain": [
              "{200: 0.7353,\n",
              " 300: 0.747,\n",
              " 400: 0.7554,\n",
              " 500: 0.7621,\n",
              " 600: 0.7681,\n",
              " 700: 0.774,\n",
              " 800: 0.7779,\n",
              " 900: 0.7807,\n",
              " 1000: 0.7839,\n",
              " 1100: 0.7872,\n",
              " 1200: 0.7897,\n",
              " 1300: 0.7922,\n",
              " 1400: 0.7951,\n",
              " 1500: 0.7971,\n",
              " 1600: 0.7985,\n",
              " 1700: 0.8,\n",
              " 1800: 0.8017,\n",
              " 1900: 0.8034,\n",
              " 2000: 0.8048,\n",
              " 2100: 0.8062,\n",
              " 2200: 0.8073,\n",
              " 2300: 0.8085,\n",
              " 2400: 0.8095}"
            ]
          },
          "metadata": {}
        }
      ],
      "execution_count": 69,
      "metadata": {
        "ExecuteTime": {
          "end_time": "2019-02-10T22:22:26.474293Z",
          "start_time": "2019-02-10T22:22:26.468647Z"
        }
      }
    },
    {
      "cell_type": "markdown",
      "source": [
        ">* The $R^2$ seems to be increasing, lets increase the number of trees and see the pattern"
      ],
      "metadata": {}
    },
    {
      "cell_type": "code",
      "source": [
        "for i in range(2500,3500,100):\n",
        "    start = time.time()\n",
        "    xgbr = xgb.XGBRegressor(n_estimators= i , learning_rate=0.1, subsample=0.5, nthread=-1, silent =1, random_state=0)\n",
        "    xgbr.fit(X_train,y_train)\n",
        "    y_hat_train = xgbr.predict(X_train)\n",
        "    y_hat_val = xgbr.predict(X_val)\n",
        "    r2_t.append(np.around(r2_score(y_train, y_hat_train), decimals=4))\n",
        "    r2_v.append(np.around(r2_score(y_val, y_hat_val), decimals=4))\n",
        "\n",
        "    end = time.time()\n",
        "    \n",
        "    print(f'Process for {i} finished in %d secs' % round((end - start),4))"
      ],
      "outputs": [
        {
          "output_type": "stream",
          "name": "stdout",
          "text": [
            "Process for 2500 finished in 17 secs\n",
            "Process for 2600 finished in 16 secs\n",
            "Process for 2700 finished in 17 secs\n",
            "Process for 2800 finished in 18 secs\n",
            "Process for 2900 finished in 19 secs\n",
            "Process for 3000 finished in 20 secs\n",
            "Process for 3100 finished in 20 secs\n",
            "Process for 3200 finished in 21 secs\n",
            "Process for 3300 finished in 22 secs\n",
            "Process for 3400 finished in 21 secs\n"
          ]
        }
      ],
      "execution_count": 70,
      "metadata": {
        "ExecuteTime": {
          "end_time": "2019-02-10T22:25:59.034525Z",
          "start_time": "2019-02-10T22:22:42.854235Z"
        }
      }
    },
    {
      "cell_type": "markdown",
      "source": [
        "* $R^2$ finall seems to be plateauing, we will stop the iteration here"
      ],
      "metadata": {}
    },
    {
      "cell_type": "code",
      "source": [
        "x = list(range(200,3500,100))\n",
        "train, = plt.plot(x, r2_t, c = 'b', label = 'train')\n",
        "val, = plt.plot(x, r2_v, c = 'r', label = 'validation')\n",
        "plt.legend(handles=[train, val])\n",
        "\n",
        "plt.xticks( x, rotation = 90)\n",
        "plt.xlabel('# of trees')\n",
        "plt.ylabel('$R^2$')\n",
        "plt.legend()\n",
        "plt.ylim(0.7,1. )"
      ],
      "outputs": [
        {
          "output_type": "execute_result",
          "execution_count": 71,
          "data": {
            "text/plain": [
              "(0.7, 1.0)"
            ]
          },
          "metadata": {}
        },
        {
          "output_type": "display_data",
          "data": {
            "image/png": "[encoded data removed]",
            "text/plain": [
              "<Figure size 432x288 with 1 Axes>"
            ]
          },
          "metadata": {
            "needs_background": "light"
          }
        }
      ],
      "execution_count": 71,
      "metadata": {
        "ExecuteTime": {
          "end_time": "2019-02-10T22:27:15.335151Z",
          "start_time": "2019-02-10T22:27:15.137415Z"
        }
      }
    },
    {
      "cell_type": "markdown",
      "source": [
        "Num Iteration vs R2"
      ],
      "metadata": {}
    },
    {
      "cell_type": "code",
      "source": [
        "{k:v for k,v in zip(x,r2_v)}"
      ],
      "outputs": [
        {
          "output_type": "execute_result",
          "execution_count": 72,
          "data": {
            "text/plain": [
              "{200: 0.7353,\n",
              " 300: 0.747,\n",
              " 400: 0.7554,\n",
              " 500: 0.7621,\n",
              " 600: 0.7681,\n",
              " 700: 0.774,\n",
              " 800: 0.7779,\n",
              " 900: 0.7807,\n",
              " 1000: 0.7839,\n",
              " 1100: 0.7872,\n",
              " 1200: 0.7897,\n",
              " 1300: 0.7922,\n",
              " 1400: 0.7951,\n",
              " 1500: 0.7971,\n",
              " 1600: 0.7985,\n",
              " 1700: 0.8,\n",
              " 1800: 0.8017,\n",
              " 1900: 0.8034,\n",
              " 2000: 0.8048,\n",
              " 2100: 0.8062,\n",
              " 2200: 0.8073,\n",
              " 2300: 0.8085,\n",
              " 2400: 0.8095,\n",
              " 2500: 0.8104,\n",
              " 2600: 0.8113,\n",
              " 2700: 0.8121,\n",
              " 2800: 0.8127,\n",
              " 2900: 0.8135,\n",
              " 3000: 0.8143,\n",
              " 3100: 0.8148,\n",
              " 3200: 0.8156,\n",
              " 3300: 0.8161,\n",
              " 3400: 0.8165}"
            ]
          },
          "metadata": {}
        }
      ],
      "execution_count": 72,
      "metadata": {
        "ExecuteTime": {
          "end_time": "2019-02-10T22:27:30.556136Z",
          "start_time": "2019-02-10T22:27:30.551685Z"
        }
      }
    },
    {
      "cell_type": "markdown",
      "source": [
        "> *Since the $R^2$ is increasing in a slower pace, lets increase the learning rate to 0.4 and see how the metric varies"
      ],
      "metadata": {}
    },
    {
      "cell_type": "code",
      "source": [
        "X, y = load_dataset()\n",
        "X_train, X_val, y_train, y_val = train_test_split(X, y, test_size=0.33, random_state=3)\n",
        "r2_t_lr3 = []\n",
        "r2_v_lr3 = []\n",
        "\n",
        "for i in range(200,2500,100):\n",
        "    start = time.time()\n",
        "    xgbr = xgb.XGBRegressor(n_estimators= i , learning_rate=0.4, subsample=0.5, nthread=-1, silent =1, random_state=0)\n",
        "    xgbr.fit(X_train,y_train)\n",
        "    y_hat_train = xgbr.predict(X_train)\n",
        "    y_hat_val = xgbr.predict(X_val)\n",
        "    r2_t_lr3.append(np.around(r2_score(y_train, y_hat_train), decimals=4))\n",
        "    r2_v_lr3.append(np.around(r2_score(y_val, y_hat_val), decimals=4))\n",
        "\n",
        "    end = time.time()\n",
        "    \n",
        "    print(f'Process for {i} finished in %d secs' % round((end - start),4))"
      ],
      "outputs": [
        {
          "output_type": "stream",
          "name": "stdout",
          "text": [
            "Process for 200 finished in 1 secs\n",
            "Process for 300 finished in 1 secs\n",
            "Process for 400 finished in 2 secs\n",
            "Process for 500 finished in 3 secs\n",
            "Process for 600 finished in 3 secs\n",
            "Process for 700 finished in 4 secs\n",
            "Process for 800 finished in 4 secs\n",
            "Process for 900 finished in 5 secs\n",
            "Process for 1000 finished in 6 secs\n",
            "Process for 1100 finished in 6 secs\n",
            "Process for 1200 finished in 7 secs\n",
            "Process for 1300 finished in 8 secs\n",
            "Process for 1400 finished in 8 secs\n",
            "Process for 1500 finished in 9 secs\n",
            "Process for 1600 finished in 10 secs\n",
            "Process for 1700 finished in 10 secs\n",
            "Process for 1800 finished in 11 secs\n",
            "Process for 1900 finished in 11 secs\n",
            "Process for 2000 finished in 12 secs\n",
            "Process for 2100 finished in 13 secs\n",
            "Process for 2200 finished in 13 secs\n",
            "Process for 2300 finished in 14 secs\n",
            "Process for 2400 finished in 15 secs\n"
          ]
        }
      ],
      "execution_count": 78,
      "metadata": {
        "ExecuteTime": {
          "end_time": "2019-02-10T22:52:37.264502Z",
          "start_time": "2019-02-10T22:49:29.159482Z"
        }
      }
    },
    {
      "cell_type": "markdown",
      "source": [
        "Num Iteration vs R2"
      ],
      "metadata": {
        "ExecuteTime": {
          "end_time": "2019-02-13T02:33:21.122122Z",
          "start_time": "2019-02-13T02:33:21.118318Z"
        }
      }
    },
    {
      "cell_type": "code",
      "source": [
        "{k:v for k,v in zip(x,r2_v_lr3)}"
      ],
      "outputs": [
        {
          "output_type": "execute_result",
          "execution_count": 83,
          "data": {
            "text/plain": [
              "{200: 0.7743,\n",
              " 300: 0.784,\n",
              " 400: 0.7936,\n",
              " 500: 0.7995,\n",
              " 600: 0.8041,\n",
              " 700: 0.807,\n",
              " 800: 0.8092,\n",
              " 900: 0.8115,\n",
              " 1000: 0.8144,\n",
              " 1100: 0.8161,\n",
              " 1200: 0.817,\n",
              " 1300: 0.8182,\n",
              " 1400: 0.8193,\n",
              " 1500: 0.8213,\n",
              " 1600: 0.8216,\n",
              " 1700: 0.8224,\n",
              " 1800: 0.8219,\n",
              " 1900: 0.8237,\n",
              " 2000: 0.8245,\n",
              " 2100: 0.8244,\n",
              " 2200: 0.824,\n",
              " 2300: 0.8247,\n",
              " 2400: 0.8252}"
            ]
          },
          "metadata": {}
        }
      ],
      "execution_count": 83,
      "metadata": {
        "ExecuteTime": {
          "end_time": "2019-02-10T23:08:54.919363Z",
          "start_time": "2019-02-10T23:08:54.912822Z"
        }
      }
    },
    {
      "cell_type": "markdown",
      "source": [
        "Learning rate of 0.7 seems to give $R_2$ lower than 0.4. Our optimal learning rate should be between 0.4 and 0.7"
      ],
      "metadata": {
        "ExecuteTime": {
          "end_time": "2019-02-13T02:34:10.587660Z",
          "start_time": "2019-02-13T02:34:10.583813Z"
        }
      }
    },
    {
      "cell_type": "code",
      "source": [
        "X, y = load_dataset()\n",
        "X_train, X_val, y_train, y_val = train_test_split(X, y, test_size=0.33, random_state=3)\n",
        "r2_t_lr8 = []\n",
        "r2_v_lr8 = []\n",
        "\n",
        "for i in range(200,2500,100):\n",
        "    start = time.time()\n",
        "    xgbr = xgb.XGBRegressor(n_estimators= i , learning_rate=0.7, subsample=0.5, nthread=-1, silent =1, random_state=0)\n",
        "    xgbr.fit(X_train,y_train)\n",
        "    y_hat_train = xgbr.predict(X_train)\n",
        "    y_hat_val = xgbr.predict(X_val)\n",
        "    r2_t_lr8.append(np.around(r2_score(y_train, y_hat_train), decimals=4))\n",
        "    r2_v_lr8.append(np.around(r2_score(y_val, y_hat_val), decimals=4))\n",
        "\n",
        "    end = time.time()\n",
        "    \n",
        "    print(f'Process for {i} finished in %d secs' % round((end - start),4))"
      ],
      "outputs": [
        {
          "output_type": "stream",
          "name": "stdout",
          "text": [
            "Process for 200 finished in 1 secs\n",
            "Process for 300 finished in 1 secs\n",
            "Process for 400 finished in 2 secs\n",
            "Process for 500 finished in 3 secs\n",
            "Process for 600 finished in 4 secs\n",
            "Process for 700 finished in 4 secs\n",
            "Process for 800 finished in 5 secs\n",
            "Process for 900 finished in 5 secs\n",
            "Process for 1000 finished in 6 secs\n",
            "Process for 1100 finished in 7 secs\n",
            "Process for 1200 finished in 7 secs\n",
            "Process for 1300 finished in 9 secs\n",
            "Process for 1400 finished in 9 secs\n",
            "Process for 1500 finished in 9 secs\n",
            "Process for 1600 finished in 10 secs\n",
            "Process for 1700 finished in 11 secs\n"
          ]
        }
      ],
      "execution_count": null,
      "metadata": {
        "ExecuteTime": {
          "start_time": "2019-02-11T02:29:05.952Z"
        }
      }
    },
    {
      "cell_type": "code",
      "source": [
        "{k:v for k,v in zip(x,r2_v_lr8)}"
      ],
      "outputs": [
        {
          "output_type": "execute_result",
          "execution_count": 87,
          "data": {
            "text/plain": [
              "{200: 0.7758,\n",
              " 300: 0.7831,\n",
              " 400: 0.7882,\n",
              " 500: 0.7947,\n",
              " 600: 0.7968,\n",
              " 700: 0.799,\n",
              " 800: 0.8004,\n",
              " 900: 0.8029,\n",
              " 1000: 0.8044,\n",
              " 1100: 0.8038,\n",
              " 1200: 0.8042,\n",
              " 1300: 0.805,\n",
              " 1400: 0.8073,\n",
              " 1500: 0.8066,\n",
              " 1600: 0.8053,\n",
              " 1700: 0.8064,\n",
              " 1800: 0.807,\n",
              " 1900: 0.8053,\n",
              " 2000: 0.8081,\n",
              " 2100: 0.8085,\n",
              " 2200: 0.8067,\n",
              " 2300: 0.807,\n",
              " 2400: 0.8085}"
            ]
          },
          "metadata": {}
        }
      ],
      "execution_count": 87,
      "metadata": {
        "ExecuteTime": {
          "end_time": "2019-02-11T02:28:52.667958Z",
          "start_time": "2019-02-11T02:28:52.660225Z"
        }
      }
    },
    {
      "cell_type": "markdown",
      "source": [
        "## Change number of children"
      ],
      "metadata": {
        "ExecuteTime": {
          "end_time": "2019-02-13T02:34:35.646681Z",
          "start_time": "2019-02-13T02:34:35.642536Z"
        }
      }
    },
    {
      "cell_type": "markdown",
      "source": [
        "> Observations:\n",
        "* As we increase the min_child_weight the $R_2$ decreases.\n",
        "* Also, the distance between train and validation plot decreases with increase in min_child_weight\n",
        "* The feature seems to reduce variance with increase in value, giving regularization "
      ],
      "metadata": {
        "ExecuteTime": {
          "end_time": "2019-02-13T03:15:05.374623Z",
          "start_time": "2019-02-13T03:15:05.369703Z"
        }
      }
    },
    {
      "cell_type": "code",
      "source": [
        "X, y = load_dataset()\n",
        "X_train, X_val, y_train, y_val = train_test_split(X, y, test_size=0.33, random_state=3)\n",
        "r2_t_lr8 = []\n",
        "r2_v_lr8 = []\n",
        "\n",
        "for i in range(200,2000,100):\n",
        "    start = time.time()\n",
        "    xgbr = xgb.XGBRegressor(n_estimators= i , learning_rate=0.1, subsample=0.5, nthread=-1, silent =1, random_state=0, min_child_weight = 5)\n",
        "    xgbr.fit(X_train,y_train)\n",
        "    y_hat_train = xgbr.predict(X_train)\n",
        "    y_hat_val = xgbr.predict(X_val)\n",
        "    r2_t_lr8.append(np.around(r2_score(y_train, y_hat_train), decimals=4))\n",
        "    r2_v_lr8.append(np.around(r2_score(y_val, y_hat_val), decimals=4))\n",
        "\n",
        "    end = time.time()\n",
        "    \n",
        "    print(f'Process for {i} finished in %d secs' % round((end - start),4))"
      ],
      "outputs": [
        {
          "output_type": "stream",
          "name": "stdout",
          "text": [
            "Process for 200 finished in 0 secs\n",
            "Process for 300 finished in 1 secs\n",
            "Process for 400 finished in 1 secs\n",
            "Process for 500 finished in 1 secs\n",
            "Process for 600 finished in 2 secs\n",
            "Process for 700 finished in 2 secs\n",
            "Process for 800 finished in 2 secs\n",
            "Process for 900 finished in 2 secs\n",
            "Process for 1000 finished in 3 secs\n",
            "Process for 1100 finished in 3 secs\n",
            "Process for 1200 finished in 4 secs\n",
            "Process for 1300 finished in 4 secs\n",
            "Process for 1400 finished in 5 secs\n",
            "Process for 1500 finished in 5 secs\n",
            "Process for 1600 finished in 5 secs\n",
            "Process for 1700 finished in 6 secs\n",
            "Process for 1800 finished in 6 secs\n",
            "Process for 1900 finished in 7 secs\n"
          ]
        }
      ],
      "execution_count": 64,
      "metadata": {
        "ExecuteTime": {
          "end_time": "2019-02-13T02:40:19.822692Z",
          "start_time": "2019-02-13T02:39:12.025794Z"
        }
      }
    },
    {
      "cell_type": "code",
      "source": [
        "X, y = load_dataset()\n",
        "X_train, X_val, y_train, y_val = train_test_split(X, y, test_size=0.33, random_state=3)\n",
        "r2_t_lr4 = []\n",
        "r2_v_lr4 = []\n",
        "\n",
        "for i in range(200,2000,100):\n",
        "    start = time.time()\n",
        "    xgbr = xgb.XGBRegressor(n_estimators= i , learning_rate=0.1, subsample=0.5, nthread=-1, silent =1, random_state=0, min_child_weight = 15)\n",
        "    xgbr.fit(X_train,y_train)\n",
        "    y_hat_train = xgbr.predict(X_train)\n",
        "    y_hat_val = xgbr.predict(X_val)\n",
        "    r2_t_lr4.append(np.around(r2_score(y_train, y_hat_train), decimals=4))\n",
        "    r2_v_lr4.append(np.around(r2_score(y_val, y_hat_val), decimals=4))\n",
        "\n",
        "    end = time.time()\n",
        "    \n",
        "    print(f'Process for {i} finished in %d secs' % round((end - start),4))"
      ],
      "outputs": [
        {
          "output_type": "stream",
          "name": "stdout",
          "text": [
            "Process for 200 finished in 0 secs\n",
            "Process for 300 finished in 1 secs\n",
            "Process for 400 finished in 1 secs\n",
            "Process for 500 finished in 1 secs\n",
            "Process for 600 finished in 2 secs\n",
            "Process for 700 finished in 3 secs\n",
            "Process for 800 finished in 3 secs\n",
            "Process for 900 finished in 4 secs\n",
            "Process for 1000 finished in 4 secs\n",
            "Process for 1100 finished in 5 secs\n",
            "Process for 1200 finished in 4 secs\n",
            "Process for 1300 finished in 4 secs\n",
            "Process for 1400 finished in 5 secs\n",
            "Process for 1500 finished in 5 secs\n",
            "Process for 1600 finished in 6 secs\n",
            "Process for 1700 finished in 7 secs\n",
            "Process for 1800 finished in 7 secs\n",
            "Process for 1900 finished in 8 secs\n"
          ]
        }
      ],
      "execution_count": 76,
      "metadata": {
        "ExecuteTime": {
          "end_time": "2019-02-13T03:00:47.097099Z",
          "start_time": "2019-02-13T02:59:28.681430Z"
        }
      }
    },
    {
      "cell_type": "code",
      "source": [
        "X, y = load_dataset()\n",
        "X_train, X_val, y_train, y_val = train_test_split(X, y, test_size=0.33, random_state=3)\n",
        "r2_t_lr5 = []\n",
        "r2_v_lr5 = []\n",
        "\n",
        "for i in range(200,2000,100):\n",
        "    start = time.time()\n",
        "    xgbr = xgb.XGBRegressor(n_estimators= i , learning_rate=0.1, subsample=0.5, nthread=-1, silent =1, random_state=0, min_child_weight = 300)\n",
        "    xgbr.fit(X_train,y_train)\n",
        "    y_hat_train = xgbr.predict(X_train)\n",
        "    y_hat_val = xgbr.predict(X_val)\n",
        "    r2_t_lr5.append(np.around(r2_score(y_train, y_hat_train), decimals=4))\n",
        "    r2_v_lr5.append(np.around(r2_score(y_val, y_hat_val), decimals=4))\n",
        "\n",
        "    end = time.time()\n",
        "    \n",
        "    print(f'Process for {i} finished in %d secs' % round((end - start),4))"
      ],
      "outputs": [
        {
          "output_type": "stream",
          "name": "stdout",
          "text": [
            "Process for 200 finished in 0 secs\n",
            "Process for 300 finished in 1 secs\n",
            "Process for 400 finished in 1 secs\n",
            "Process for 500 finished in 1 secs\n",
            "Process for 600 finished in 2 secs\n",
            "Process for 700 finished in 2 secs\n",
            "Process for 800 finished in 2 secs\n",
            "Process for 900 finished in 3 secs\n",
            "Process for 1000 finished in 3 secs\n",
            "Process for 1100 finished in 4 secs\n",
            "Process for 1200 finished in 4 secs\n",
            "Process for 1300 finished in 4 secs\n",
            "Process for 1400 finished in 5 secs\n",
            "Process for 1500 finished in 5 secs\n",
            "Process for 1600 finished in 7 secs\n",
            "Process for 1700 finished in 7 secs\n",
            "Process for 1800 finished in 7 secs\n",
            "Process for 1900 finished in 8 secs\n"
          ]
        }
      ],
      "execution_count": 81,
      "metadata": {
        "ExecuteTime": {
          "end_time": "2019-02-13T03:04:58.169451Z",
          "start_time": "2019-02-13T03:03:43.668116Z"
        }
      }
    },
    {
      "cell_type": "code",
      "source": [
        "x = list(range(200,2000,100))\n",
        "train_300, = plt.plot(x, r2_t_lr5, c = 'b', label = 'train_300')\n",
        "val_300, = plt.plot(x, r2_v_lr5, c = 'r', label = 'validation_300')\n",
        "train_15, = plt.plot(x, r2_t_lr4, c = 'g', label = 'train_15')\n",
        "val_15, = plt.plot(x, r2_v_lr4, c = 'y', label = 'validation_15')\n",
        "train, = plt.plot(x, r2_t_lr8, c = 'm', label = 'train_5')\n",
        "val, = plt.plot(x, r2_v_lr8, c = 'c', label = 'validation_5')\n",
        "\n",
        "plt.legend(handles=[train_300, val_300,train_15,val_15])\n",
        "\n",
        "plt.xticks( x, rotation = 90)\n",
        "plt.xlabel('# of trees')\n",
        "plt.ylabel('$R^2$')\n",
        "plt.legend()\n",
        "plt.ylim(0.7,0.85 )"
      ],
      "outputs": [
        {
          "output_type": "execute_result",
          "execution_count": 100,
          "data": {
            "text/plain": [
              "(0.7, 0.85)"
            ]
          },
          "metadata": {}
        },
        {
          "output_type": "display_data",
          "data": {
            "image/png": "[encoded data removed]",
            "text/plain": [
              "<Figure size 432x288 with 1 Axes>"
            ]
          },
          "metadata": {
            "needs_background": "light"
          }
        }
      ],
      "execution_count": 100,
      "metadata": {
        "ExecuteTime": {
          "end_time": "2019-02-13T03:09:33.825310Z",
          "start_time": "2019-02-13T03:09:33.623190Z"
        }
      }
    },
    {
      "cell_type": "code",
      "source": [],
      "outputs": [],
      "execution_count": null,
      "metadata": {}
    }
  ],
  "metadata": {
    "kernelspec": {
      "name": "python3",
      "language": "python",
      "display_name": "Python 3"
    },
    "language_info": {
      "name": "python",
      "version": "3.7.2",
      "mimetype": "text/x-python",
      "codemirror_mode": {
        "name": "ipython",
        "version": 3
      },
      "pygments_lexer": "ipython3",
      "nbconvert_exporter": "python",
      "file_extension": ".py"
    },
    "toc": {
      "toc_position": {
        "height": "calc(100% - 180px)",
        "left": "10px",
        "top": "150px",
        "width": "264.796875px"
      },
      "skip_h1_title": false,
      "number_sections": true,
      "title_cell": "Table of Contents",
      "toc_window_display": true,
      "base_numbering": 1,
      "toc_section_display": "block",
      "title_sidebar": "Contents",
      "toc_cell": false,
      "nav_menu": {},
      "sideBar": true
    },
    "kernel_info": {
      "name": "python3"
    },
    "nteract": {
      "version": "0.12.3"
    }
  },
  "nbformat": 4,
  "nbformat_minor": 2
}