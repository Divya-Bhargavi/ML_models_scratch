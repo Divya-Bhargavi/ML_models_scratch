{
 "cells": [
  {
   "cell_type": "code",
   "execution_count": 186,
   "metadata": {
    "ExecuteTime": {
     "end_time": "2019-03-15T06:24:22.028709Z",
     "start_time": "2019-03-15T06:24:21.942532Z"
    }
   },
   "outputs": [],
   "source": [
    "from sklearn.datasets import load_iris, load_diabetes\n",
    "import numpy as np\n",
    "from sklearn.model_selection import train_test_split\n",
    "from collections import Counter\n",
    "import matplotlib.pyplot as plt\n",
    "import seaborn as sns\n",
    "from sklearn.preprocessing import StandardScaler\n",
    "import warnings\n",
    "warnings.filterwarnings('ignore')\n",
    "% matplotlib inline\n",
    "\n"
   ]
  },
  {
   "cell_type": "code",
   "execution_count": 162,
   "metadata": {
    "ExecuteTime": {
     "end_time": "2019-03-15T05:58:32.770251Z",
     "start_time": "2019-03-15T05:58:32.758294Z"
    }
   },
   "outputs": [],
   "source": [
    "iris = load_iris()\n",
    "X = iris.data\n",
    "Y = iris.target\n",
    "X_train, X_test, Y_train, Y_test = train_test_split(X, Y, test_size=0.33, random_state=42)\n",
    "sc = StandardScaler()\n",
    "X_train = sc.fit_transform(X_train)\n",
    "X_test = sc.transform(X_test)\n",
    "\n"
   ]
  },
  {
   "cell_type": "code",
   "execution_count": 184,
   "metadata": {
    "ExecuteTime": {
     "end_time": "2019-03-15T06:11:50.427221Z",
     "start_time": "2019-03-15T06:11:50.421444Z"
    }
   },
   "outputs": [],
   "source": [
    "class KnnClassifier:\n",
    "    def __init__(self, k,X_train, Y_train):\n",
    "        self.k = k\n",
    "        self.X_train = X_train\n",
    "        self.Y_train = Y_train\n",
    "        \n",
    "    def euclidean_distance(self,x_test):\n",
    "        nn_index = np.argsort(np.sqrt(np.sum(np.square(x_test - self.X_train), axis=1)))[0:self.k]\n",
    "        return nn_index\n",
    "\n",
    "    def majority_class(self,nn_index):\n",
    "        counts = Counter(self.Y_train[nn_index])\n",
    "        y_pred = counts.most_common(n=1)[0][0]\n",
    "\n",
    "        return y_pred\n",
    "\n",
    "    def fit(self, X_test):\n",
    "        y_preds = []\n",
    "        for x in X_test:\n",
    "            nn_index = self.euclidean_distance(x)\n",
    "            y_pred = self.majority_class(nn_index)\n",
    "            y_preds.append(y_pred)\n",
    "\n",
    "        return np.array(y_preds)\n",
    "    \n",
    "    def accuracy(self, y_pred, y_test):\n",
    "        return np.sum(y_pred == y_test)*1.0/len(y_pred)\n",
    "    "
   ]
  },
  {
   "cell_type": "markdown",
   "metadata": {},
   "source": [
    "#### Choose k with highest validation accuracy"
   ]
  },
  {
   "cell_type": "code",
   "execution_count": 182,
   "metadata": {
    "ExecuteTime": {
     "end_time": "2019-03-15T06:11:37.448013Z",
     "start_time": "2019-03-15T06:11:36.962072Z"
    },
    "run_control": {
     "marked": true
    }
   },
   "outputs": [],
   "source": [
    "train_acc = []\n",
    "for i in range(2,100):\n",
    "    knn = KnnClassifier(i,X_train, Y_train)\n",
    "    y_preds = knn.fit(X_train)\n",
    "    train_acc.append(knn.accuracy(y_preds, Y_train))\n",
    "\n",
    "        \n",
    "    \n",
    "val_acc = []\n",
    "for i in range(2,100):\n",
    "    knn = KnnClassifier(i,X_train, Y_train)\n",
    "    y_preds = knn.fit(X_test)\n",
    "    val_acc.append(knn.accuracy(y_preds, Y_test))\n",
    "\n"
   ]
  },
  {
   "cell_type": "code",
   "execution_count": 183,
   "metadata": {
    "ExecuteTime": {
     "end_time": "2019-03-15T06:11:38.093501Z",
     "start_time": "2019-03-15T06:11:37.999994Z"
    }
   },
   "outputs": [
    {
     "data": {
      "image/png": "[encoded data removed]",
      "text/plain": [
       "<Figure size 432x288 with 1 Axes>"
      ]
     },
     "metadata": {
      "needs_background": "light"
     },
     "output_type": "display_data"
    }
   ],
   "source": [
    "x_range = list(range(2,100))\n",
    "\n",
    "train, = plt.plot(x_range, train_acc, c = 'g', label = 'train')\n",
    "val, = plt.plot(x_range, val_acc, c = 'b', label = 'validation')\n",
    "plt.vlines(x=3,ymin=0, ymax=1, colors='r', label = 'Highest Val Acc')\n",
    "plt.legend(handles=[train, val])\n",
    "plt.grid()\n",
    "plt.show()"
   ]
  },
  {
   "cell_type": "markdown",
   "metadata": {},
   "source": [
    "- K = 3 gives highest validation accuracy for our dataset.\n",
    "- For smaller values of k have higher accuracy, larger value tends to generalize well on train data"
   ]
  },
  {
   "cell_type": "code",
   "execution_count": 199,
   "metadata": {
    "ExecuteTime": {
     "end_time": "2019-03-15T06:26:53.424386Z",
     "start_time": "2019-03-15T06:26:53.418768Z"
    }
   },
   "outputs": [],
   "source": [
    "class KnnRegressor:\n",
    "    def __init__(self, k,X_train, Y_train):\n",
    "        self.k = k\n",
    "        self.X_train = X_train\n",
    "        self.Y_train = Y_train\n",
    "        \n",
    "    def euclidean_distance(self,x_test):\n",
    "        nn_index = np.argsort(np.sqrt(np.sum(np.square(x_test - self.X_train), axis=1)))[0:self.k]\n",
    "        return nn_index\n",
    "\n",
    "    def mean_nn_score(self,nn_index):\n",
    "        y_pred = np.mean(self.Y_train[nn_index])\n",
    "\n",
    "        return y_pred\n",
    "\n",
    "    def fit(self, X_test):\n",
    "        y_preds = []\n",
    "        for x in X_test:\n",
    "            nn_index = self.euclidean_distance(x)\n",
    "            y_pred = self.mean_nn_score(nn_index)\n",
    "            y_preds.append(y_pred)\n",
    "\n",
    "        return np.array(y_preds)\n",
    "    \n",
    "    def rmse(self, y_pred, y_test):\n",
    "        return round(np.sqrt(np.sum((y_pred - y_test)**2)),4)\n",
    "    "
   ]
  },
  {
   "cell_type": "code",
   "execution_count": 200,
   "metadata": {
    "ExecuteTime": {
     "end_time": "2019-03-15T06:26:53.769342Z",
     "start_time": "2019-03-15T06:26:53.763164Z"
    }
   },
   "outputs": [
    {
     "data": {
      "text/plain": [
       "525688.1111111111"
      ]
     },
     "execution_count": 200,
     "metadata": {},
     "output_type": "execute_result"
    }
   ],
   "source": [
    "np.sum((y_preds-Y_test)**2)"
   ]
  },
  {
   "cell_type": "code",
   "execution_count": 207,
   "metadata": {
    "ExecuteTime": {
     "end_time": "2019-03-15T06:28:49.705432Z",
     "start_time": "2019-03-15T06:28:49.686112Z"
    },
    "run_control": {
     "marked": true
    }
   },
   "outputs": [],
   "source": [
    "diabetes = load_diabetes()\n",
    "X = diabetes.data\n",
    "Y = diabetes.target\n",
    "X_train, X_test, Y_train, Y_test = train_test_split(X, Y, test_size=0.33, random_state=42)\n",
    "sc = StandardScaler()\n",
    "X_train = sc.fit_transform(X_train)\n",
    "X_test = sc.transform(X_test)\n",
    "\n",
    "\n"
   ]
  },
  {
   "cell_type": "code",
   "execution_count": 208,
   "metadata": {
    "ExecuteTime": {
     "end_time": "2019-03-15T06:28:50.046252Z",
     "start_time": "2019-03-15T06:28:50.040979Z"
    }
   },
   "outputs": [
    {
     "data": {
      "text/plain": [
       "((296, 10), (296,), (146, 10), (146,))"
      ]
     },
     "execution_count": 208,
     "metadata": {},
     "output_type": "execute_result"
    }
   ],
   "source": [
    "X_train.shape, Y_train.shape, X_test.shape,Y_test.shape"
   ]
  },
  {
   "cell_type": "code",
   "execution_count": 209,
   "metadata": {
    "ExecuteTime": {
     "end_time": "2019-03-15T06:28:51.808994Z",
     "start_time": "2019-03-15T06:28:51.797646Z"
    }
   },
   "outputs": [],
   "source": [
    "knn = KnnRegressor(3,X_train, Y_train)\n",
    "y_preds = knn.fit(X_test)\n",
    "val_rmse = knn.rmse(y_preds, Y_test)"
   ]
  },
  {
   "cell_type": "code",
   "execution_count": 218,
   "metadata": {
    "ExecuteTime": {
     "end_time": "2019-03-15T06:31:04.104820Z",
     "start_time": "2019-03-15T06:31:02.228861Z"
    }
   },
   "outputs": [
    {
     "data": {
      "image/png": "[encoded data removed]",
      "text/plain": [
       "<Figure size 432x288 with 1 Axes>"
      ]
     },
     "metadata": {
      "needs_background": "light"
     },
     "output_type": "display_data"
    }
   ],
   "source": [
    "train_rmse = []\n",
    "for i in range(2,100):\n",
    "    knn = KnnRegressor(i,X_train, Y_train)\n",
    "    y_preds = knn.fit(X_train)\n",
    "    train_rmse.append(knn.rmse(y_preds, Y_train))\n",
    "\n",
    "        \n",
    "    \n",
    "val_rmse = []\n",
    "for i in range(2,100):\n",
    "    knn = KnnRegressor(i,X_train, Y_train)\n",
    "    y_preds = knn.fit(X_test)\n",
    "    val_rmse.append(knn.rmse(y_preds, Y_test))\n",
    "\n",
    "\n",
    "x_range = list(range(2,100))\n",
    "\n",
    "train, = plt.plot(x_range, train_rmse, c = 'g', label = 'train')\n",
    "val, = plt.plot(x_range, val_rmse, c = 'b', label = 'validation')\n",
    "plt.vlines(x=x_range[np.argsort(np.array(val_rmse))[0]],ymin=0, ymax=2000, colors='r', label = 'Highest Val Acc')\n",
    "plt.legend(handles=[train, val])\n",
    "plt.grid()\n",
    "plt.show()"
   ]
  }
 ],
 "metadata": {
  "kernelspec": {
   "display_name": "Python 3",
   "language": "python",
   "name": "python3"
  },
  "language_info": {
   "codemirror_mode": {
    "name": "ipython",
    "version": 3
   },
   "file_extension": ".py",
   "mimetype": "text/x-python",
   "name": "python",
   "nbconvert_exporter": "python",
   "pygments_lexer": "ipython3",
   "version": "3.7.2"
  },
  "toc": {
   "base_numbering": 1,
   "nav_menu": {},
   "number_sections": true,
   "sideBar": true,
   "skip_h1_title": false,
   "title_cell": "Table of Contents",
   "title_sidebar": "Contents",
   "toc_cell": false,
   "toc_position": {},
   "toc_section_display": true,
   "toc_window_display": false
  }
 },
 "nbformat": 4,
 "nbformat_minor": 2
}
