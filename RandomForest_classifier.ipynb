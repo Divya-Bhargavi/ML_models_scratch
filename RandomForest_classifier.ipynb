{
 "cells": [
  {
   "cell_type": "markdown",
   "metadata": {},
   "source": [
    "Borrowed from fast.ai implementation"
   ]
  },
  {
   "cell_type": "markdown",
   "metadata": {},
   "source": [
    "#### Random Forest Classifier"
   ]
  },
  {
   "cell_type": "code",
   "execution_count": 1,
   "metadata": {
    "ExecuteTime": {
     "end_time": "2019-03-24T06:51:53.931718Z",
     "start_time": "2019-03-24T06:51:51.667246Z"
    }
   },
   "outputs": [],
   "source": [
    "from scipy.stats import mode\n",
    "import pandas as pd\n",
    "import numpy as np"
   ]
  },
  {
   "cell_type": "code",
   "execution_count": 4,
   "metadata": {
    "ExecuteTime": {
     "end_time": "2019-03-24T06:59:24.642494Z",
     "start_time": "2019-03-24T06:59:24.625686Z"
    }
   },
   "outputs": [],
   "source": [
    "class RandomForest():\n",
    "    def __init__(self, x, y, n_trees, n_features, sample_sz, depth=10, min_leaf=5):\n",
    "        np.random.seed(12)\n",
    "        if n_features == 'sqrt':\n",
    "            self.n_features = int(np.sqrt(x.shape[1]))\n",
    "        elif n_features == 'log2':\n",
    "            self.n_features = int(np.log2(x.shape[1]))\n",
    "        else:\n",
    "            self.n_features = n_features\n",
    "        print(self.n_features, \"sha: \", x.shape[1])\n",
    "        self.x, self.y, self.sample_sz, self.depth, self.min_leaf = x, y, sample_sz, depth, min_leaf\n",
    "        self.trees = [self.create_tree() for i in range(n_trees)]\n",
    "    \n",
    "    def create_tree(self):\n",
    "        idxs = np.random.permutation(len(self.y))[:self.sample_sz]\n",
    "        f_idxs = np.random.permutation(self.x.shape[1])[:self.n_features]\n",
    "        return DecisionTree(self.x.iloc[idxs], self.y[idxs], self.n_features, f_idxs,\n",
    "                            idxs=np.array(range(self.sample_sz)), depth=self.depth, min_leaf=self.min_leaf)\n",
    "    \n",
    "    def predict(self, x):\n",
    "        return np.mean([t.predict(x) for t in self.trees], axis=0)\n",
    "\n",
    "\n",
    "def std_agg(cnt, s1, s2): return math.sqrt((s2 / cnt) - (s1 / cnt) ** 2)\n",
    "\n",
    "\n",
    "class DecisionTree():\n",
    "    def __init__(self, x, y, n_features, f_idxs, idxs, depth=10, min_leaf=5):\n",
    "        self.x, self.y, self.idxs, self.min_leaf, self.f_idxs = x, y, idxs, min_leaf, f_idxs\n",
    "        self.depth = depth\n",
    "        print(f_idxs)\n",
    "        #         print(self.depth)\n",
    "        self.n_features = n_features\n",
    "        self.n, self.c = len(idxs), x.shape[1]\n",
    "        self.val = np.mean(y[idxs])\n",
    "        self.score = float('inf')\n",
    "        self.find_varsplit()\n",
    "    \n",
    "    def find_varsplit(self):\n",
    "        for i in self.f_idxs: self.find_better_split(i)\n",
    "        if self.is_leaf: return\n",
    "        x = self.split_col\n",
    "        lhs = np.nonzero(x <= self.split)[0]\n",
    "        rhs = np.nonzero(x > self.split)[0]\n",
    "        lf_idxs = np.random.permutation(self.x.shape[1])[:self.n_features]\n",
    "        rf_idxs = np.random.permutation(self.x.shape[1])[:self.n_features]\n",
    "        self.lhs = DecisionTree(self.x, self.y, self.n_features, lf_idxs, self.idxs[lhs], depth=self.depth - 1,\n",
    "                                min_leaf=self.min_leaf)\n",
    "        self.rhs = DecisionTree(self.x, self.y, self.n_features, rf_idxs, self.idxs[rhs], depth=self.depth - 1,\n",
    "                                min_leaf=self.min_leaf)\n",
    "    \n",
    "    def find_better_split(self, var_idx):\n",
    "        x, y = self.x.values[self.idxs, var_idx], self.y[self.idxs]\n",
    "        sort_idx = np.argsort(x)\n",
    "        sort_y, sort_x = y[sort_idx], x[sort_idx]\n",
    "        rhs_cnt, rhs_sum, rhs_sum2 = self.n, sort_y.sum(), (sort_y ** 2).sum()\n",
    "        lhs_cnt, lhs_sum, lhs_sum2 = 0, 0., 0.\n",
    "        \n",
    "        for i in range(0, self.n - self.min_leaf - 1):\n",
    "            xi, yi = sort_x[i], sort_y[i]\n",
    "            lhs_cnt += 1;\n",
    "            rhs_cnt -= 1\n",
    "            lhs_sum += yi;\n",
    "            rhs_sum -= yi\n",
    "            lhs_sum2 += yi ** 2;\n",
    "            rhs_sum2 -= yi ** 2\n",
    "            if i < self.min_leaf or xi == sort_x[i + 1]:\n",
    "                continue\n",
    "            \n",
    "            lhs_std = std_agg(lhs_cnt, lhs_sum, lhs_sum2)\n",
    "            rhs_std = std_agg(rhs_cnt, rhs_sum, rhs_sum2)\n",
    "            curr_score = lhs_std * lhs_cnt + rhs_std * rhs_cnt\n",
    "            if curr_score < self.score:\n",
    "                self.var_idx, self.score, self.split = var_idx, curr_score, xi\n",
    "    \n",
    "    @property\n",
    "    def split_name(self):\n",
    "        return self.x.columns[self.var_idx]\n",
    "    \n",
    "    @property\n",
    "    def split_col(self):\n",
    "        return self.x.values[self.idxs, self.var_idx]\n",
    "    \n",
    "    @property\n",
    "    def is_leaf(self):\n",
    "        return self.score == float('inf') or self.depth <= 0\n",
    "    \n",
    "    def predict(self, x):\n",
    "        return np.array([self.predict_row(xi) for xi in x])\n",
    "    \n",
    "    def predict_row(self, xi):\n",
    "        if self.is_leaf: return self.val\n",
    "        t = self.lhs if xi[self.var_idx] <= self.split else self.rhs\n",
    "        return t.predict_row(xi)"
   ]
  }
 ],
 "metadata": {
  "kernelspec": {
   "display_name": "Python 3",
   "language": "python",
   "name": "python3"
  },
  "language_info": {
   "codemirror_mode": {
    "name": "ipython",
    "version": 3
   },
   "file_extension": ".py",
   "mimetype": "text/x-python",
   "name": "python",
   "nbconvert_exporter": "python",
   "pygments_lexer": "ipython3",
   "version": "3.7.2"
  },
  "toc": {
   "base_numbering": 1,
   "nav_menu": {},
   "number_sections": true,
   "sideBar": true,
   "skip_h1_title": false,
   "title_cell": "Table of Contents",
   "title_sidebar": "Contents",
   "toc_cell": false,
   "toc_position": {},
   "toc_section_display": true,
   "toc_window_display": false
  }
 },
 "nbformat": 4,
 "nbformat_minor": 2
}
